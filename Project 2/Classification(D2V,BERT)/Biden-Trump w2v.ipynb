{
 "cells": [
  {
   "cell_type": "markdown",
   "metadata": {},
   "source": [
    "![title](LogoEPL.jpg)\n",
    "<b><p style='text-align: center;'> Algorithms in Data Science  </p> </b>"
   ]
  },
  {
   "cell_type": "markdown",
   "metadata": {},
   "source": [
    "<b><p style='text-align: center;'> Trump and Biden: Fans' tweet Classification </p> </b>\n",
    "<b><p style='text-align: center;'> Doc2Vector approach </p> </b>\n",
    "\n",
    "<i><p style='text-align: Center;'> Nima Farnoodian , Charles Rongione, Breno Tiburico</p> </i>\n"
   ]
  },
  {
   "cell_type": "code",
   "execution_count": 27,
   "metadata": {},
   "outputs": [
    {
     "name": "stderr",
     "output_type": "stream",
     "text": [
      "[nltk_data] Downloading package stopwords to\n",
      "[nltk_data]     C:\\Users\\etudiant\\AppData\\Roaming\\nltk_data...\n",
      "[nltk_data]   Unzipping corpora\\stopwords.zip.\n"
     ]
    },
    {
     "data": {
      "text/plain": [
       "True"
      ]
     },
     "execution_count": 27,
     "metadata": {},
     "output_type": "execute_result"
    }
   ],
   "source": [
    "'''\n",
    "import nltk\n",
    "nltk.download('wordnet')\n",
    "\n",
    "import nltk\n",
    "nltk.download('stopwords')"
   ]
  },
  {
   "cell_type": "code",
   "execution_count": 3,
   "metadata": {},
   "outputs": [],
   "source": [
    "from nltk.tokenize import sent_tokenize, word_tokenize \n",
    "import warnings\n",
    "from nltk.stem import WordNetLemmatizer \n",
    "from spacy.lemmatizer import Lemmatizer\n",
    "lemmatizer = WordNetLemmatizer()\n",
    "from bs4 import BeautifulSoup\n",
    "import re\n",
    "import pandas as pd\n",
    "import numpy as np\n",
    "from gensim.models.doc2vec import Doc2Vec, TaggedDocument\n",
    "from nltk.tokenize import word_tokenize\n",
    "import nltk\n",
    "from nltk.corpus import stopwords \n",
    "from gensim.parsing.preprocessing import stem_text\n",
    "from gensim.parsing.preprocessing import preprocess_string\n",
    "import string\n",
    "import gensim\n",
    "from tqdm.notebook import tqdm   # progress bar\n",
    "from sklearn import metrics\n",
    "from sklearn.model_selection import GridSearchCV\n",
    "import seaborn as sb"
   ]
  },
  {
   "cell_type": "markdown",
   "metadata": {},
   "source": [
    "# Preprocessing "
   ]
  },
  {
   "cell_type": "raw",
   "metadata": {},
   "source": [
    "def cleanText(text):\n",
    "    text = BeautifulSoup(text, \"lxml\").text\n",
    "    text = re.sub(r'\\|\\|\\|', r' ', text) \n",
    "    text = re.sub(r'http\\S+', r'<URL>', text)\n",
    "    text = text.lower()\n",
    "    text = text.replace('x', '')\n",
    "    return text"
   ]
  },
  {
   "cell_type": "raw",
   "metadata": {},
   "source": [
    "text=\"It's a place for cucks to go and cry that the\\_Donald is down for a little while. Better to not know. Still love you pede. :\\]\"\n",
    "print(text)"
   ]
  },
  {
   "cell_type": "raw",
   "metadata": {},
   "source": [
    "cleanText(text)"
   ]
  },
  {
   "cell_type": "code",
   "execution_count": 594,
   "metadata": {},
   "outputs": [],
   "source": [
    "def remove_punct(text):\n",
    "    text  = \"\".join([char for char in text if char not in string.punctuation])\n",
    "    text = re.sub('[0-9]+', '', text)\n",
    "    return text\n"
   ]
  },
  {
   "cell_type": "code",
   "execution_count": 114,
   "metadata": {},
   "outputs": [
    {
     "data": {
      "text/plain": [
       "'Take action • Donatehttpssecureactbluecomdonatebidenfundraisingdashboardrefcodereddit • Eventshttpswwwmobilizeusjoebidensourceactioncenter • Register to votehttpswwwvoteorg • Make calls for Joehttpsjoebidencommakecallsforjoesourceactioncenter'"
      ]
     },
     "execution_count": 114,
     "metadata": {},
     "output_type": "execute_result"
    }
   ],
   "source": [
    "text=\"Take action: **•** [**Donate**](https://secure.actblue.com/donate/biden-fundraising-dashboard?refcode=reddit) **•** [**Events**](https://www.mobilize.us/joebiden/?source=action-center) **•** [**Register to vote**](https://www.vote.org/) **•** [**Make calls for Joe**](https://joebiden.com/make-calls-for-joe/?source=action-center)\"\n",
    "remove_punct(text)"
   ]
  },
  {
   "cell_type": "code",
   "execution_count": 115,
   "metadata": {},
   "outputs": [],
   "source": [
    "def cleaning(filename):\n",
    "    sample = open(filename, \"r\",encoding='UTF=8') \n",
    "    sample = sample.readlines() \n",
    "    #biden = biden.replace(\"\\n\", \" \") \n",
    "\n",
    "    sample_all= [] \n",
    "\n",
    "    # iterate through each sentence in the file \n",
    "\n",
    "    for i in sample: \n",
    "        temp = [] \n",
    "        # tokenize the sentence into words \n",
    "        for j in remove_punct(i).split():\n",
    "            if j.isalpha() and j not in stopwords.words('english') and len(j)>1:\n",
    "                temp.append(j.lower()) \n",
    "        twitt=' '.join(temp)\n",
    "        if twitt!='':\n",
    "            sample_all.append(twitt) \n",
    "    return sample_all"
   ]
  },
  {
   "cell_type": "code",
   "execution_count": 559,
   "metadata": {},
   "outputs": [
    {
     "data": {
      "text/plain": [
       "False"
      ]
     },
     "execution_count": 559,
     "metadata": {},
     "output_type": "execute_result"
    }
   ],
   "source": [
    "'!'.isalpha()"
   ]
  },
  {
   "cell_type": "markdown",
   "metadata": {},
   "source": [
    "### Training Data"
   ]
  },
  {
   "cell_type": "code",
   "execution_count": 116,
   "metadata": {},
   "outputs": [],
   "source": [
    "biden_train=cleaning(\"JoeBiden_train.csv\")"
   ]
  },
  {
   "cell_type": "code",
   "execution_count": 121,
   "metadata": {},
   "outputs": [
    {
     "data": {
      "text/plain": [
       "'body'"
      ]
     },
     "execution_count": 121,
     "metadata": {},
     "output_type": "execute_result"
    }
   ],
   "source": [
    "biden_train[0]"
   ]
  },
  {
   "cell_type": "code",
   "execution_count": 118,
   "metadata": {},
   "outputs": [],
   "source": [
    "trump_train=cleaning(\"The_Donald_train.csv\")"
   ]
  },
  {
   "cell_type": "code",
   "execution_count": 120,
   "metadata": {},
   "outputs": [
    {
     "data": {
      "text/plain": [
       "'body'"
      ]
     },
     "execution_count": 120,
     "metadata": {},
     "output_type": "execute_result"
    }
   ],
   "source": [
    "trump_train[0]"
   ]
  },
  {
   "cell_type": "code",
   "execution_count": 122,
   "metadata": {},
   "outputs": [
    {
     "data": {
      "text/plain": [
       "33791"
      ]
     },
     "execution_count": 122,
     "metadata": {},
     "output_type": "execute_result"
    }
   ],
   "source": [
    "len(trump_train)+len(biden_train)"
   ]
  },
  {
   "cell_type": "code",
   "execution_count": 123,
   "metadata": {},
   "outputs": [],
   "source": [
    "train=pd.DataFrame(data=None,columns=['twitt','relatedTo'])\n",
    "counter=0\n",
    "# Biden=1, Trump=0\n",
    "for biden in biden_train:\n",
    "    train.loc[str(counter)]=[biden, 1]\n",
    "    counter+=1\n",
    "for trump in trump_train:\n",
    "    train.loc[str(counter)]=[trump, 0]\n",
    "    counter+=1"
   ]
  },
  {
   "cell_type": "code",
   "execution_count": 124,
   "metadata": {},
   "outputs": [
    {
     "data": {
      "text/plain": [
       "33791"
      ]
     },
     "execution_count": 124,
     "metadata": {},
     "output_type": "execute_result"
    }
   ],
   "source": [
    "len(train)"
   ]
  },
  {
   "cell_type": "code",
   "execution_count": 125,
   "metadata": {},
   "outputs": [],
   "source": [
    "train=train.iloc[np.random.permutation(len(train))]"
   ]
  },
  {
   "cell_type": "code",
   "execution_count": 126,
   "metadata": {},
   "outputs": [
    {
     "data": {
      "text/html": [
       "<div>\n",
       "<style scoped>\n",
       "    .dataframe tbody tr th:only-of-type {\n",
       "        vertical-align: middle;\n",
       "    }\n",
       "\n",
       "    .dataframe tbody tr th {\n",
       "        vertical-align: top;\n",
       "    }\n",
       "\n",
       "    .dataframe thead th {\n",
       "        text-align: right;\n",
       "    }\n",
       "</style>\n",
       "<table border=\"1\" class=\"dataframe\">\n",
       "  <thead>\n",
       "    <tr style=\"text-align: right;\">\n",
       "      <th></th>\n",
       "      <th>twitt</th>\n",
       "      <th>relatedTo</th>\n",
       "    </tr>\n",
       "  </thead>\n",
       "  <tbody>\n",
       "    <tr>\n",
       "      <th>11882</th>\n",
       "      <td>as soon hillary running vs bernie changed mind</td>\n",
       "      <td>1</td>\n",
       "    </tr>\n",
       "    <tr>\n",
       "      <th>2061</th>\n",
       "      <td>personally thats see although believe see what...</td>\n",
       "      <td>1</td>\n",
       "    </tr>\n",
       "    <tr>\n",
       "      <th>10790</th>\n",
       "      <td>hasnt super tuesday already shown us youth vot...</td>\n",
       "      <td>1</td>\n",
       "    </tr>\n",
       "    <tr>\n",
       "      <th>18504</th>\n",
       "      <td>the magic gungrabbing biggulprestricting nanny...</td>\n",
       "      <td>0</td>\n",
       "    </tr>\n",
       "    <tr>\n",
       "      <th>25750</th>\n",
       "      <td>if remember correctly nixon roughly votes add ...</td>\n",
       "      <td>0</td>\n",
       "    </tr>\n",
       "  </tbody>\n",
       "</table>\n",
       "</div>"
      ],
      "text/plain": [
       "                                                   twitt relatedTo\n",
       "11882     as soon hillary running vs bernie changed mind         1\n",
       "2061   personally thats see although believe see what...         1\n",
       "10790  hasnt super tuesday already shown us youth vot...         1\n",
       "18504  the magic gungrabbing biggulprestricting nanny...         0\n",
       "25750  if remember correctly nixon roughly votes add ...         0"
      ]
     },
     "execution_count": 126,
     "metadata": {},
     "output_type": "execute_result"
    }
   ],
   "source": [
    "train.head()"
   ]
  },
  {
   "cell_type": "code",
   "execution_count": 127,
   "metadata": {},
   "outputs": [
    {
     "data": {
      "text/plain": [
       "<matplotlib.axes._subplots.AxesSubplot at 0x27a0c3c2970>"
      ]
     },
     "execution_count": 127,
     "metadata": {},
     "output_type": "execute_result"
    },
    {
     "data": {
      "image/png": "[encoded data removed]",
      "text/plain": [
       "<Figure size 432x288 with 1 Axes>"
      ]
     },
     "metadata": {
      "needs_background": "light"
     },
     "output_type": "display_data"
    }
   ],
   "source": [
    "train.groupby(by='relatedTo').count().plot(kind='bar')"
   ]
  },
  {
   "cell_type": "code",
   "execution_count": 128,
   "metadata": {},
   "outputs": [],
   "source": [
    "# Saving training data\n",
    "train.to_csv('Cleaned_train_TB_WSTW.csv')"
   ]
  },
  {
   "cell_type": "markdown",
   "metadata": {},
   "source": [
    "### Test Data"
   ]
  },
  {
   "cell_type": "code",
   "execution_count": 129,
   "metadata": {},
   "outputs": [],
   "source": [
    "biden_test=cleaning(\"JoeBiden_test.csv\")"
   ]
  },
  {
   "cell_type": "code",
   "execution_count": 130,
   "metadata": {},
   "outputs": [
    {
     "data": {
      "text/plain": [
       "'the country still getting emotional trauma september th bush still lot builtup goodwill handled iraq starting get dicey public support beginning turn war would continue throughout election year'"
      ]
     },
     "execution_count": 130,
     "metadata": {},
     "output_type": "execute_result"
    }
   ],
   "source": [
    "biden_test[6]"
   ]
  },
  {
   "cell_type": "code",
   "execution_count": 131,
   "metadata": {},
   "outputs": [],
   "source": [
    "trump_test=cleaning(\"The_Donald_test.csv\")"
   ]
  },
  {
   "cell_type": "code",
   "execution_count": 132,
   "metadata": {},
   "outputs": [
    {
     "data": {
      "text/plain": [
       "'thank tom'"
      ]
     },
     "execution_count": 132,
     "metadata": {},
     "output_type": "execute_result"
    }
   ],
   "source": [
    "trump_test[5]"
   ]
  },
  {
   "cell_type": "code",
   "execution_count": 133,
   "metadata": {},
   "outputs": [
    {
     "data": {
      "text/plain": [
       "8864"
      ]
     },
     "execution_count": 133,
     "metadata": {},
     "output_type": "execute_result"
    }
   ],
   "source": [
    "len(trump_test)+len(biden_test)"
   ]
  },
  {
   "cell_type": "code",
   "execution_count": 134,
   "metadata": {},
   "outputs": [],
   "source": [
    "test=pd.DataFrame(data=None,columns=['twitt','relatedTo'])\n",
    "counter=0\n",
    "# Biden=1, Trump=0\n",
    "for biden in biden_test:\n",
    "    test.loc[str(counter)]=[biden, 1]\n",
    "    counter+=1\n",
    "for trump in trump_test:\n",
    "    test.loc[str(counter)]=[trump, 0]\n",
    "    counter+=1"
   ]
  },
  {
   "cell_type": "code",
   "execution_count": 135,
   "metadata": {},
   "outputs": [
    {
     "data": {
      "text/plain": [
       "8864"
      ]
     },
     "execution_count": 135,
     "metadata": {},
     "output_type": "execute_result"
    }
   ],
   "source": [
    "len(test)"
   ]
  },
  {
   "cell_type": "code",
   "execution_count": 139,
   "metadata": {},
   "outputs": [],
   "source": [
    "test=test.iloc[np.random.permutation(len(test))]"
   ]
  },
  {
   "cell_type": "code",
   "execution_count": 140,
   "metadata": {},
   "outputs": [
    {
     "data": {
      "text/html": [
       "<div>\n",
       "<style scoped>\n",
       "    .dataframe tbody tr th:only-of-type {\n",
       "        vertical-align: middle;\n",
       "    }\n",
       "\n",
       "    .dataframe tbody tr th {\n",
       "        vertical-align: top;\n",
       "    }\n",
       "\n",
       "    .dataframe thead th {\n",
       "        text-align: right;\n",
       "    }\n",
       "</style>\n",
       "<table border=\"1\" class=\"dataframe\">\n",
       "  <thead>\n",
       "    <tr style=\"text-align: right;\">\n",
       "      <th></th>\n",
       "      <th>twitt</th>\n",
       "      <th>relatedTo</th>\n",
       "    </tr>\n",
       "  </thead>\n",
       "  <tbody>\n",
       "    <tr>\n",
       "      <th>7012</th>\n",
       "      <td>got upvote warning message it makes wonder abl...</td>\n",
       "      <td>0</td>\n",
       "    </tr>\n",
       "    <tr>\n",
       "      <th>184</th>\n",
       "      <td>keep gaslighting</td>\n",
       "      <td>1</td>\n",
       "    </tr>\n",
       "    <tr>\n",
       "      <th>1649</th>\n",
       "      <td>people dont owe medical records comes disabili...</td>\n",
       "      <td>1</td>\n",
       "    </tr>\n",
       "    <tr>\n",
       "      <th>7682</th>\n",
       "      <td>you get need</td>\n",
       "      <td>0</td>\n",
       "    </tr>\n",
       "    <tr>\n",
       "      <th>378</th>\n",
       "      <td>would type responses concerns joes website add...</td>\n",
       "      <td>1</td>\n",
       "    </tr>\n",
       "  </tbody>\n",
       "</table>\n",
       "</div>"
      ],
      "text/plain": [
       "                                                  twitt relatedTo\n",
       "7012  got upvote warning message it makes wonder abl...         0\n",
       "184                                    keep gaslighting         1\n",
       "1649  people dont owe medical records comes disabili...         1\n",
       "7682                                       you get need         0\n",
       "378   would type responses concerns joes website add...         1"
      ]
     },
     "execution_count": 140,
     "metadata": {},
     "output_type": "execute_result"
    }
   ],
   "source": [
    "test.head()"
   ]
  },
  {
   "cell_type": "code",
   "execution_count": 141,
   "metadata": {},
   "outputs": [
    {
     "data": {
      "text/plain": [
       "<matplotlib.axes._subplots.AxesSubplot at 0x27a08da1cd0>"
      ]
     },
     "execution_count": 141,
     "metadata": {},
     "output_type": "execute_result"
    },
    {
     "data": {
      "image/png": "[encoded data removed]",
      "text/plain": [
       "<Figure size 432x288 with 1 Axes>"
      ]
     },
     "metadata": {
      "needs_background": "light"
     },
     "output_type": "display_data"
    }
   ],
   "source": [
    "test.groupby(by='relatedTo').count().plot(kind='bar')"
   ]
  },
  {
   "cell_type": "code",
   "execution_count": 142,
   "metadata": {},
   "outputs": [],
   "source": [
    "# Saving test data\n",
    "test.to_csv('Cleaned_test_TB_WSTW.csv')"
   ]
  },
  {
   "cell_type": "code",
   "execution_count": 607,
   "metadata": {},
   "outputs": [],
   "source": [
    "#Loading Data sets\n",
    "train=pd.read_csv('Cleaned_train_TB_WSTW.csv',index_col='no')\n",
    "test=pd.read_csv('Cleaned_test_TB_WSTW.csv',index_col='no')"
   ]
  },
  {
   "cell_type": "code",
   "execution_count": 99,
   "metadata": {},
   "outputs": [
    {
     "data": {
      "text/html": [
       "<div>\n",
       "<style scoped>\n",
       "    .dataframe tbody tr th:only-of-type {\n",
       "        vertical-align: middle;\n",
       "    }\n",
       "\n",
       "    .dataframe tbody tr th {\n",
       "        vertical-align: top;\n",
       "    }\n",
       "\n",
       "    .dataframe thead th {\n",
       "        text-align: right;\n",
       "    }\n",
       "</style>\n",
       "<table border=\"1\" class=\"dataframe\">\n",
       "  <thead>\n",
       "    <tr style=\"text-align: right;\">\n",
       "      <th></th>\n",
       "      <th>twitt</th>\n",
       "      <th>relatedTo</th>\n",
       "    </tr>\n",
       "    <tr>\n",
       "      <th>no</th>\n",
       "      <th></th>\n",
       "      <th></th>\n",
       "    </tr>\n",
       "  </thead>\n",
       "  <tbody>\n",
       "    <tr>\n",
       "      <th>11882</th>\n",
       "      <td>as soon hillary running vs bernie changed mind</td>\n",
       "      <td>1</td>\n",
       "    </tr>\n",
       "    <tr>\n",
       "      <th>2061</th>\n",
       "      <td>personally thats see although believe see what...</td>\n",
       "      <td>1</td>\n",
       "    </tr>\n",
       "    <tr>\n",
       "      <th>10790</th>\n",
       "      <td>hasnt super tuesday already shown us youth vot...</td>\n",
       "      <td>1</td>\n",
       "    </tr>\n",
       "    <tr>\n",
       "      <th>18504</th>\n",
       "      <td>the magic gungrabbing biggulprestricting nanny...</td>\n",
       "      <td>0</td>\n",
       "    </tr>\n",
       "    <tr>\n",
       "      <th>25750</th>\n",
       "      <td>if remember correctly nixon roughly votes add ...</td>\n",
       "      <td>0</td>\n",
       "    </tr>\n",
       "  </tbody>\n",
       "</table>\n",
       "</div>"
      ],
      "text/plain": [
       "                                                   twitt  relatedTo\n",
       "no                                                                 \n",
       "11882     as soon hillary running vs bernie changed mind          1\n",
       "2061   personally thats see although believe see what...          1\n",
       "10790  hasnt super tuesday already shown us youth vot...          1\n",
       "18504  the magic gungrabbing biggulprestricting nanny...          0\n",
       "25750  if remember correctly nixon roughly votes add ...          0"
      ]
     },
     "execution_count": 99,
     "metadata": {},
     "output_type": "execute_result"
    }
   ],
   "source": [
    "train.head()"
   ]
  },
  {
   "cell_type": "code",
   "execution_count": 100,
   "metadata": {},
   "outputs": [
    {
     "data": {
      "text/plain": [
       "['as soon hillary running vs bernie changed mind',\n",
       " 'personally thats see although believe see what see people claiming rhetoric actions regardless personal motivation play interests dubious people',\n",
       " 'hasnt super tuesday already shown us youth voters dont come though',\n",
       " 'the magic gungrabbing biggulprestricting nanny state midget gives run moneyliterally',\n",
       " 'if remember correctly nixon roughly votes add wallaces votes nixon mcgovern way less']"
      ]
     },
     "execution_count": 100,
     "metadata": {},
     "output_type": "execute_result"
    }
   ],
   "source": [
    "train['twitt'].head().to_list()"
   ]
  },
  {
   "cell_type": "markdown",
   "metadata": {},
   "source": [
    "# Doc2Vec"
   ]
  },
  {
   "cell_type": "code",
   "execution_count": 101,
   "metadata": {},
   "outputs": [],
   "source": [
    "train_comments=[]\n",
    "test_comments=[]\n",
    "for comment in train['twitt'].to_list():\n",
    "    train_comments.append(word_tokenize(comment))\n",
    "for comment in test['twitt'].to_list():\n",
    "    test_comments.append(word_tokenize(comment))    "
   ]
  },
  {
   "cell_type": "code",
   "execution_count": 161,
   "metadata": {},
   "outputs": [
    {
     "data": {
      "text/plain": [
       "33791"
      ]
     },
     "execution_count": 161,
     "metadata": {},
     "output_type": "execute_result"
    }
   ],
   "source": [
    "len(train_comments)"
   ]
  },
  {
   "cell_type": "code",
   "execution_count": 163,
   "metadata": {},
   "outputs": [
    {
     "data": {
      "text/plain": [
       "8864"
      ]
     },
     "execution_count": 163,
     "metadata": {},
     "output_type": "execute_result"
    }
   ],
   "source": [
    "len(test_comments)"
   ]
  },
  {
   "cell_type": "markdown",
   "metadata": {},
   "source": [
    "## DocVec for training Data "
   ]
  },
  {
   "cell_type": "code",
   "execution_count": 102,
   "metadata": {},
   "outputs": [
    {
     "data": {
      "application/vnd.jupyter.widget-view+json": {
       "model_id": "d99620ef985e478ea86fe475c18484f6",
       "version_major": 2,
       "version_minor": 0
      },
      "text/plain": [
       "HBox(children=(FloatProgress(value=0.0, max=10.0), HTML(value='')))"
      ]
     },
     "metadata": {},
     "output_type": "display_data"
    },
    {
     "name": "stdout",
     "output_type": "stream",
     "text": [
      "\n"
     ]
    }
   ],
   "source": [
    "#train docVector\n",
    "from gensim.models.doc2vec import Doc2Vec, TaggedDocument\n",
    "from nltk.tokenize import word_tokenize\n",
    "\n",
    "# PREPARE THE SET OF DOCUMENTS FOR THE MODEL\n",
    "documents = [TaggedDocument(doc, [i]) for i, doc in enumerate(train_comments)]\n",
    "\n",
    "doc_model = gensim.models.Doc2Vec(vector_size=200, window=3,  compute_loss = True,\n",
    "                               min_count=10, alpha = 0.01)\n",
    "doc_model.build_vocab(documents)\n",
    "\n",
    "# AND TRAIN THE MODEL\n",
    "iterations = tqdm(range(10))\n",
    "for i in iterations:\n",
    "    doc_model.train(documents, total_examples=doc_model.corpus_count,\n",
    "                epochs = 100)\n",
    "    msg = f\"Iter :: {i}\"\n",
    "    iterations.set_postfix_str(s = msg, refresh=True)"
   ]
  },
  {
   "cell_type": "code",
   "execution_count": 103,
   "metadata": {},
   "outputs": [
    {
     "data": {
      "text/plain": [
       "TaggedDocument(words=['personally', 'thats', 'see', 'although', 'believe', 'see', 'what', 'see', 'people', 'claiming', 'rhetoric', 'actions', 'regardless', 'personal', 'motivation', 'play', 'interests', 'dubious', 'people'], tags=[1])"
      ]
     },
     "execution_count": 103,
     "metadata": {},
     "output_type": "execute_result"
    }
   ],
   "source": [
    "documents[1]"
   ]
  },
  {
   "cell_type": "code",
   "execution_count": 104,
   "metadata": {},
   "outputs": [
    {
     "data": {
      "text/plain": [
       "array([ 0.76067066, -0.63610893, -0.18294784,  2.169702  , -0.02364853,\n",
       "        0.24102147,  0.6327607 ,  0.03598609, -0.67066574, -0.7444184 ,\n",
       "        0.15769787, -1.3969591 ,  0.623509  ,  0.17159429,  0.45973477,\n",
       "        0.3739345 , -0.08032265,  0.28169122, -0.4886401 ,  0.33707702],\n",
       "      dtype=float32)"
      ]
     },
     "execution_count": 104,
     "metadata": {},
     "output_type": "execute_result"
    }
   ],
   "source": [
    "dv = doc_model.docvecs[2]\n",
    "dv[:20]"
   ]
  },
  {
   "cell_type": "code",
   "execution_count": 105,
   "metadata": {},
   "outputs": [],
   "source": [
    "#Savin the model for training\n",
    "doc_model.save('train_DocVec')"
   ]
  },
  {
   "cell_type": "code",
   "execution_count": 604,
   "metadata": {},
   "outputs": [],
   "source": [
    "doc_model=Doc2Vec.load('train_DocVec')"
   ]
  },
  {
   "cell_type": "code",
   "execution_count": 605,
   "metadata": {},
   "outputs": [],
   "source": [
    "tokens = \"as soon hillary running vs bernie\".split()\n",
    "\n",
    "new_vector = doc_model.infer_vector(tokens)\n",
    "sims = doc_model.docvecs.most_similar([new_vector])"
   ]
  },
  {
   "cell_type": "code",
   "execution_count": 606,
   "metadata": {},
   "outputs": [
    {
     "data": {
      "text/plain": [
       "[(0, 0.7842480540275574),\n",
       " (3494, 0.6119270324707031),\n",
       " (11706, 0.6062200665473938),\n",
       " (31767, 0.5784820318222046),\n",
       " (17762, 0.5711911916732788),\n",
       " (320, 0.5626240968704224),\n",
       " (20350, 0.5614511966705322),\n",
       " (28387, 0.5597437620162964),\n",
       " (8313, 0.5594379901885986),\n",
       " (28801, 0.5568548440933228)]"
      ]
     },
     "execution_count": 606,
     "metadata": {},
     "output_type": "execute_result"
    }
   ],
   "source": [
    "sims"
   ]
  },
  {
   "cell_type": "markdown",
   "metadata": {},
   "source": [
    "#  New test model based on built vocabulary"
   ]
  },
  {
   "cell_type": "code",
   "execution_count": null,
   "metadata": {},
   "outputs": [],
   "source": [
    "new_vector = doc_model.infer_vector('this is a test'.split())\n",
    "sims = doc_train_tagged.docvecs.most_similar([new_vector])\n",
    "\n"
   ]
  },
  {
   "cell_type": "code",
   "execution_count": 609,
   "metadata": {},
   "outputs": [
    {
     "data": {
      "text/plain": [
       "array([-0.01986009,  0.05074262,  0.07709808, -0.07578725, -0.05799063,\n",
       "        0.00414388,  0.04967026, -0.05025212,  0.03284129,  0.03317862,\n",
       "        0.06031203,  0.0897065 ,  0.0668079 ,  0.04355108,  0.07399227,\n",
       "        0.00069901,  0.10332749, -0.0471101 ,  0.09468925,  0.00527018,\n",
       "        0.05606731,  0.01327505,  0.03206593, -0.011027  ,  0.08319848,\n",
       "        0.08476219, -0.02389413, -0.04787969,  0.00588017,  0.0745846 ,\n",
       "        0.13325676,  0.06102708, -0.00399437, -0.06339014,  0.09626892,\n",
       "       -0.10214596, -0.02358324, -0.0256883 ,  0.07214658,  0.07864793,\n",
       "       -0.04566065,  0.002669  ,  0.01509378, -0.05619187,  0.01911025,\n",
       "        0.06214548, -0.03622368, -0.07655738, -0.06097181,  0.02952646,\n",
       "       -0.07637549, -0.03688187,  0.08415951,  0.04172217, -0.09620597,\n",
       "        0.06627684, -0.01863896,  0.05101735, -0.03814917, -0.06076312,\n",
       "       -0.14834917, -0.02694131, -0.08910801,  0.00668101, -0.06331474,\n",
       "       -0.0242798 ,  0.04816081, -0.08469502,  0.08299092,  0.08918169,\n",
       "       -0.1155168 ,  0.13500783,  0.05439261, -0.06248373, -0.01368282,\n",
       "        0.05769536,  0.10592398,  0.00794149,  0.13485456, -0.04794137,\n",
       "       -0.07328814,  0.07499126, -0.10703986,  0.03628337,  0.0837284 ,\n",
       "        0.03443879, -0.04356307, -0.06367221, -0.02021296,  0.02143402,\n",
       "        0.02152064,  0.12423518, -0.00676452,  0.00208267,  0.00485684,\n",
       "        0.02093517,  0.03566315, -0.03022428, -0.05640203, -0.00613403,\n",
       "        0.08383451,  0.07919489,  0.02523352,  0.07138248, -0.02563472,\n",
       "       -0.07957093, -0.00579819, -0.0299827 , -0.01438465,  0.05291178,\n",
       "        0.0659637 ,  0.0318005 ,  0.1157392 ,  0.06165791, -0.07778492,\n",
       "        0.04244103,  0.01291903,  0.00218863,  0.0178546 , -0.03167257,\n",
       "        0.0566275 , -0.06260277,  0.02500646, -0.02700095, -0.02140631,\n",
       "        0.01511824, -0.00040772, -0.00382824, -0.00692919,  0.05610925,\n",
       "       -0.07649125, -0.01327251, -0.03424092,  0.07131774,  0.06335593,\n",
       "        0.02827545, -0.01850889, -0.00493948, -0.02689464,  0.04018539,\n",
       "       -0.03082567, -0.04192457, -0.00509427,  0.05453696, -0.0425085 ,\n",
       "        0.14779906, -0.00299583, -0.06188883, -0.00157291, -0.02009645,\n",
       "       -0.01118876,  0.01275177,  0.00380292,  0.10408377,  0.10638699,\n",
       "       -0.02177063,  0.0956091 ,  0.1079782 ,  0.07636551, -0.07195155,\n",
       "       -0.02653052,  0.00347774, -0.03653134,  0.04272652,  0.0548531 ,\n",
       "        0.02572887, -0.09220741, -0.08266652,  0.05474548,  0.11072881,\n",
       "       -0.02557234,  0.03061964, -0.04302568, -0.04724639, -0.01719677,\n",
       "       -0.00640213,  0.03803799, -0.01334134,  0.03918303,  0.05240158,\n",
       "        0.05191124,  0.02928417,  0.01018064,  0.12847182, -0.04960243,\n",
       "       -0.07489508, -0.02258897,  0.10447384,  0.08921134, -0.00591843,\n",
       "        0.02913952, -0.00179409,  0.02314919, -0.00085552, -0.00044746,\n",
       "       -0.11152326, -0.03854055,  0.06182512,  0.01287812, -0.07067643],\n",
       "      dtype=float32)"
      ]
     },
     "execution_count": 609,
     "metadata": {},
     "output_type": "execute_result"
    }
   ],
   "source": [
    "test.iloc[1][0]\n",
    "doc_model.infer_vector(test.iloc[1][0].split())"
   ]
  },
  {
   "cell_type": "markdown",
   "metadata": {},
   "source": [
    "## Saving Data as Panda Data Frame"
   ]
  },
  {
   "cell_type": "markdown",
   "metadata": {},
   "source": [
    "### Train Data"
   ]
  },
  {
   "cell_type": "code",
   "execution_count": 111,
   "metadata": {},
   "outputs": [
    {
     "data": {
      "text/plain": [
       "200"
      ]
     },
     "execution_count": 111,
     "metadata": {},
     "output_type": "execute_result"
    }
   ],
   "source": [
    "len(list(doc_model.docvecs[1]))"
   ]
  },
  {
   "cell_type": "code",
   "execution_count": 113,
   "metadata": {},
   "outputs": [],
   "source": [
    "name=[str(i) for i in range (200)]\n",
    "name=['Related_To']+name\n",
    "train_vec_pd=pd.DataFrame(data=None, index=None, columns=name) \n",
    "# Generating a pd data fram for training DocVectors and the label\n",
    "for i in range(len(train)):\n",
    "    #train_vec_pd.append([train.iloc[i][1]]+list(doc_model.docvecs[i]))\n",
    "    #print(train.iloc[i][1]+list(doc_model.docvecs[i]))\n",
    "    train_vec_pd.loc[str(i)]=[train.iloc[i][1]]+list(doc_model.docvecs[i])"
   ]
  },
  {
   "cell_type": "code",
   "execution_count": 114,
   "metadata": {},
   "outputs": [],
   "source": [
    "train_vec_pd = train_vec_pd.astype({\"Related_To\": int})"
   ]
  },
  {
   "cell_type": "code",
   "execution_count": 115,
   "metadata": {},
   "outputs": [
    {
     "data": {
      "text/html": [
       "<div>\n",
       "<style scoped>\n",
       "    .dataframe tbody tr th:only-of-type {\n",
       "        vertical-align: middle;\n",
       "    }\n",
       "\n",
       "    .dataframe tbody tr th {\n",
       "        vertical-align: top;\n",
       "    }\n",
       "\n",
       "    .dataframe thead th {\n",
       "        text-align: right;\n",
       "    }\n",
       "</style>\n",
       "<table border=\"1\" class=\"dataframe\">\n",
       "  <thead>\n",
       "    <tr style=\"text-align: right;\">\n",
       "      <th></th>\n",
       "      <th>Related_To</th>\n",
       "      <th>0</th>\n",
       "      <th>1</th>\n",
       "      <th>2</th>\n",
       "      <th>3</th>\n",
       "      <th>4</th>\n",
       "      <th>5</th>\n",
       "      <th>6</th>\n",
       "      <th>7</th>\n",
       "      <th>8</th>\n",
       "      <th>...</th>\n",
       "      <th>190</th>\n",
       "      <th>191</th>\n",
       "      <th>192</th>\n",
       "      <th>193</th>\n",
       "      <th>194</th>\n",
       "      <th>195</th>\n",
       "      <th>196</th>\n",
       "      <th>197</th>\n",
       "      <th>198</th>\n",
       "      <th>199</th>\n",
       "    </tr>\n",
       "  </thead>\n",
       "  <tbody>\n",
       "    <tr>\n",
       "      <th>0</th>\n",
       "      <td>1</td>\n",
       "      <td>-0.369257</td>\n",
       "      <td>1.561745</td>\n",
       "      <td>-0.327558</td>\n",
       "      <td>0.363364</td>\n",
       "      <td>-1.073315</td>\n",
       "      <td>1.331756</td>\n",
       "      <td>0.808982</td>\n",
       "      <td>-0.430057</td>\n",
       "      <td>1.641216</td>\n",
       "      <td>...</td>\n",
       "      <td>-1.561767</td>\n",
       "      <td>-0.111701</td>\n",
       "      <td>-1.819952</td>\n",
       "      <td>-0.687485</td>\n",
       "      <td>0.420283</td>\n",
       "      <td>-1.228820</td>\n",
       "      <td>0.769485</td>\n",
       "      <td>-0.146520</td>\n",
       "      <td>-0.640254</td>\n",
       "      <td>0.022801</td>\n",
       "    </tr>\n",
       "    <tr>\n",
       "      <th>1</th>\n",
       "      <td>1</td>\n",
       "      <td>0.325083</td>\n",
       "      <td>1.132485</td>\n",
       "      <td>0.386722</td>\n",
       "      <td>-0.806117</td>\n",
       "      <td>0.222724</td>\n",
       "      <td>0.258262</td>\n",
       "      <td>-1.306257</td>\n",
       "      <td>-0.370106</td>\n",
       "      <td>0.298136</td>\n",
       "      <td>...</td>\n",
       "      <td>-1.359934</td>\n",
       "      <td>-0.350516</td>\n",
       "      <td>-0.337697</td>\n",
       "      <td>-0.727332</td>\n",
       "      <td>0.685017</td>\n",
       "      <td>-0.298220</td>\n",
       "      <td>0.162071</td>\n",
       "      <td>-1.024459</td>\n",
       "      <td>-1.174072</td>\n",
       "      <td>-0.090377</td>\n",
       "    </tr>\n",
       "    <tr>\n",
       "      <th>2</th>\n",
       "      <td>1</td>\n",
       "      <td>1.130774</td>\n",
       "      <td>-0.539893</td>\n",
       "      <td>-0.026254</td>\n",
       "      <td>2.525591</td>\n",
       "      <td>-0.058954</td>\n",
       "      <td>0.138315</td>\n",
       "      <td>-0.453626</td>\n",
       "      <td>-0.041526</td>\n",
       "      <td>-1.230109</td>\n",
       "      <td>...</td>\n",
       "      <td>-1.738227</td>\n",
       "      <td>1.174132</td>\n",
       "      <td>-0.237114</td>\n",
       "      <td>-1.097397</td>\n",
       "      <td>0.101519</td>\n",
       "      <td>0.754470</td>\n",
       "      <td>0.416478</td>\n",
       "      <td>-1.038084</td>\n",
       "      <td>0.127983</td>\n",
       "      <td>-1.722391</td>\n",
       "    </tr>\n",
       "    <tr>\n",
       "      <th>3</th>\n",
       "      <td>0</td>\n",
       "      <td>-0.386716</td>\n",
       "      <td>0.592336</td>\n",
       "      <td>0.254997</td>\n",
       "      <td>-0.039923</td>\n",
       "      <td>-0.047023</td>\n",
       "      <td>-0.378955</td>\n",
       "      <td>0.092329</td>\n",
       "      <td>-0.891133</td>\n",
       "      <td>0.041510</td>\n",
       "      <td>...</td>\n",
       "      <td>-0.144276</td>\n",
       "      <td>0.757067</td>\n",
       "      <td>0.136975</td>\n",
       "      <td>-0.233106</td>\n",
       "      <td>1.061653</td>\n",
       "      <td>-0.251082</td>\n",
       "      <td>0.238645</td>\n",
       "      <td>-0.544927</td>\n",
       "      <td>-0.025400</td>\n",
       "      <td>0.346887</td>\n",
       "    </tr>\n",
       "    <tr>\n",
       "      <th>4</th>\n",
       "      <td>0</td>\n",
       "      <td>0.166944</td>\n",
       "      <td>1.137652</td>\n",
       "      <td>-0.462164</td>\n",
       "      <td>0.276122</td>\n",
       "      <td>-0.772688</td>\n",
       "      <td>0.097490</td>\n",
       "      <td>0.873750</td>\n",
       "      <td>-0.678361</td>\n",
       "      <td>-0.871904</td>\n",
       "      <td>...</td>\n",
       "      <td>-0.950764</td>\n",
       "      <td>0.449472</td>\n",
       "      <td>-0.759913</td>\n",
       "      <td>0.972024</td>\n",
       "      <td>-0.804160</td>\n",
       "      <td>-1.093794</td>\n",
       "      <td>0.371327</td>\n",
       "      <td>0.021101</td>\n",
       "      <td>-0.968555</td>\n",
       "      <td>1.170041</td>\n",
       "    </tr>\n",
       "  </tbody>\n",
       "</table>\n",
       "<p>5 rows × 201 columns</p>\n",
       "</div>"
      ],
      "text/plain": [
       "   Related_To         0         1         2         3         4         5  \\\n",
       "0           1 -0.369257  1.561745 -0.327558  0.363364 -1.073315  1.331756   \n",
       "1           1  0.325083  1.132485  0.386722 -0.806117  0.222724  0.258262   \n",
       "2           1  1.130774 -0.539893 -0.026254  2.525591 -0.058954  0.138315   \n",
       "3           0 -0.386716  0.592336  0.254997 -0.039923 -0.047023 -0.378955   \n",
       "4           0  0.166944  1.137652 -0.462164  0.276122 -0.772688  0.097490   \n",
       "\n",
       "          6         7         8  ...       190       191       192       193  \\\n",
       "0  0.808982 -0.430057  1.641216  ... -1.561767 -0.111701 -1.819952 -0.687485   \n",
       "1 -1.306257 -0.370106  0.298136  ... -1.359934 -0.350516 -0.337697 -0.727332   \n",
       "2 -0.453626 -0.041526 -1.230109  ... -1.738227  1.174132 -0.237114 -1.097397   \n",
       "3  0.092329 -0.891133  0.041510  ... -0.144276  0.757067  0.136975 -0.233106   \n",
       "4  0.873750 -0.678361 -0.871904  ... -0.950764  0.449472 -0.759913  0.972024   \n",
       "\n",
       "        194       195       196       197       198       199  \n",
       "0  0.420283 -1.228820  0.769485 -0.146520 -0.640254  0.022801  \n",
       "1  0.685017 -0.298220  0.162071 -1.024459 -1.174072 -0.090377  \n",
       "2  0.101519  0.754470  0.416478 -1.038084  0.127983 -1.722391  \n",
       "3  1.061653 -0.251082  0.238645 -0.544927 -0.025400  0.346887  \n",
       "4 -0.804160 -1.093794  0.371327  0.021101 -0.968555  1.170041  \n",
       "\n",
       "[5 rows x 201 columns]"
      ]
     },
     "execution_count": 115,
     "metadata": {},
     "output_type": "execute_result"
    }
   ],
   "source": [
    "train_vec_pd.head()"
   ]
  },
  {
   "cell_type": "code",
   "execution_count": 116,
   "metadata": {},
   "outputs": [
    {
     "data": {
      "text/html": [
       "<div>\n",
       "<style scoped>\n",
       "    .dataframe tbody tr th:only-of-type {\n",
       "        vertical-align: middle;\n",
       "    }\n",
       "\n",
       "    .dataframe tbody tr th {\n",
       "        vertical-align: top;\n",
       "    }\n",
       "\n",
       "    .dataframe thead th {\n",
       "        text-align: right;\n",
       "    }\n",
       "</style>\n",
       "<table border=\"1\" class=\"dataframe\">\n",
       "  <thead>\n",
       "    <tr style=\"text-align: right;\">\n",
       "      <th></th>\n",
       "      <th>twitt</th>\n",
       "      <th>relatedTo</th>\n",
       "    </tr>\n",
       "    <tr>\n",
       "      <th>no</th>\n",
       "      <th></th>\n",
       "      <th></th>\n",
       "    </tr>\n",
       "  </thead>\n",
       "  <tbody>\n",
       "    <tr>\n",
       "      <th>11882</th>\n",
       "      <td>as soon hillary running vs bernie changed mind</td>\n",
       "      <td>1</td>\n",
       "    </tr>\n",
       "    <tr>\n",
       "      <th>2061</th>\n",
       "      <td>personally thats see although believe see what...</td>\n",
       "      <td>1</td>\n",
       "    </tr>\n",
       "    <tr>\n",
       "      <th>10790</th>\n",
       "      <td>hasnt super tuesday already shown us youth vot...</td>\n",
       "      <td>1</td>\n",
       "    </tr>\n",
       "    <tr>\n",
       "      <th>18504</th>\n",
       "      <td>the magic gungrabbing biggulprestricting nanny...</td>\n",
       "      <td>0</td>\n",
       "    </tr>\n",
       "    <tr>\n",
       "      <th>25750</th>\n",
       "      <td>if remember correctly nixon roughly votes add ...</td>\n",
       "      <td>0</td>\n",
       "    </tr>\n",
       "  </tbody>\n",
       "</table>\n",
       "</div>"
      ],
      "text/plain": [
       "                                                   twitt  relatedTo\n",
       "no                                                                 \n",
       "11882     as soon hillary running vs bernie changed mind          1\n",
       "2061   personally thats see although believe see what...          1\n",
       "10790  hasnt super tuesday already shown us youth vot...          1\n",
       "18504  the magic gungrabbing biggulprestricting nanny...          0\n",
       "25750  if remember correctly nixon roughly votes add ...          0"
      ]
     },
     "execution_count": 116,
     "metadata": {},
     "output_type": "execute_result"
    }
   ],
   "source": [
    "train.head()"
   ]
  },
  {
   "cell_type": "code",
   "execution_count": 118,
   "metadata": {},
   "outputs": [],
   "source": [
    "train_vec_pd.to_csv('train_vec_pd.csv')"
   ]
  },
  {
   "cell_type": "markdown",
   "metadata": {},
   "source": [
    "### Test Data"
   ]
  },
  {
   "cell_type": "code",
   "execution_count": null,
   "metadata": {},
   "outputs": [],
   "source": [
    "name=[i for i in range (200)]\n",
    "name=['Related_To']+name\n",
    "test_vec_pd=pd.DataFrame(data=None, index=None, columns=name) \n",
    "# Generating a pd data fram for training DocVectors and the label\n",
    "for i in range(len(test)):\n",
    "    #train_vec_pd.append([train.iloc[i][1]]+list(doc_model.docvecs[i]))\n",
    "    #print(train.iloc[i][1]+list(doc_model.docvecs[i]))\n",
    "    test_vec_pd.loc[i]=[int(test.iloc[i][1])]+list(doc_model.infer_vector(test.iloc[i][0].split()))"
   ]
  },
  {
   "cell_type": "code",
   "execution_count": null,
   "metadata": {},
   "outputs": [],
   "source": [
    "test_vec_pd = test_vec_pd.astype({\"Related_To\": int})"
   ]
  },
  {
   "cell_type": "code",
   "execution_count": null,
   "metadata": {},
   "outputs": [],
   "source": [
    "test_vec_pd.to_csv('test_vec_pd.csv')"
   ]
  },
  {
   "cell_type": "code",
   "execution_count": 127,
   "metadata": {},
   "outputs": [],
   "source": [
    "del(train_vec_pd)\n",
    "del(test_vec_pd)"
   ]
  },
  {
   "cell_type": "markdown",
   "metadata": {},
   "source": [
    "# Classification "
   ]
  },
  {
   "cell_type": "markdown",
   "metadata": {},
   "source": [
    "## Loading Data "
   ]
  },
  {
   "cell_type": "markdown",
   "metadata": {},
   "source": [
    "All the operations above were performed to obtain a DocVector data set. So, if you have the data sets, you do not need to run the above cells. Just upload the finalized the datasets. Note that we upload the data sets into train and test panda data frames. Do not get confused with these names that are used in the previous cells. "
   ]
  },
  {
   "cell_type": "code",
   "execution_count": 82,
   "metadata": {},
   "outputs": [],
   "source": [
    "train=pd.read_csv('train_vec_pd.csv',index_col='no')\n",
    "test=pd.read_csv('test_vec_pd.csv',index_col='no')"
   ]
  },
  {
   "cell_type": "code",
   "execution_count": 83,
   "metadata": {},
   "outputs": [],
   "source": [
    "train['Related_To']=train['Related_To'].astype('bool')\n",
    "test['Related_To']=test['Related_To'].astype('bool')"
   ]
  },
  {
   "cell_type": "code",
   "execution_count": 6,
   "metadata": {},
   "outputs": [
    {
     "data": {
      "text/html": [
       "<div>\n",
       "<style scoped>\n",
       "    .dataframe tbody tr th:only-of-type {\n",
       "        vertical-align: middle;\n",
       "    }\n",
       "\n",
       "    .dataframe tbody tr th {\n",
       "        vertical-align: top;\n",
       "    }\n",
       "\n",
       "    .dataframe thead th {\n",
       "        text-align: right;\n",
       "    }\n",
       "</style>\n",
       "<table border=\"1\" class=\"dataframe\">\n",
       "  <thead>\n",
       "    <tr style=\"text-align: right;\">\n",
       "      <th></th>\n",
       "      <th>Related_To</th>\n",
       "      <th>0</th>\n",
       "      <th>1</th>\n",
       "      <th>2</th>\n",
       "      <th>3</th>\n",
       "      <th>4</th>\n",
       "      <th>5</th>\n",
       "      <th>6</th>\n",
       "      <th>7</th>\n",
       "      <th>8</th>\n",
       "      <th>...</th>\n",
       "      <th>190</th>\n",
       "      <th>191</th>\n",
       "      <th>192</th>\n",
       "      <th>193</th>\n",
       "      <th>194</th>\n",
       "      <th>195</th>\n",
       "      <th>196</th>\n",
       "      <th>197</th>\n",
       "      <th>198</th>\n",
       "      <th>199</th>\n",
       "    </tr>\n",
       "    <tr>\n",
       "      <th>no</th>\n",
       "      <th></th>\n",
       "      <th></th>\n",
       "      <th></th>\n",
       "      <th></th>\n",
       "      <th></th>\n",
       "      <th></th>\n",
       "      <th></th>\n",
       "      <th></th>\n",
       "      <th></th>\n",
       "      <th></th>\n",
       "      <th></th>\n",
       "      <th></th>\n",
       "      <th></th>\n",
       "      <th></th>\n",
       "      <th></th>\n",
       "      <th></th>\n",
       "      <th></th>\n",
       "      <th></th>\n",
       "      <th></th>\n",
       "      <th></th>\n",
       "      <th></th>\n",
       "    </tr>\n",
       "  </thead>\n",
       "  <tbody>\n",
       "    <tr>\n",
       "      <th>0</th>\n",
       "      <td>True</td>\n",
       "      <td>-0.369257</td>\n",
       "      <td>1.561745</td>\n",
       "      <td>-0.327558</td>\n",
       "      <td>0.363364</td>\n",
       "      <td>-1.073315</td>\n",
       "      <td>1.331756</td>\n",
       "      <td>0.808982</td>\n",
       "      <td>-0.430057</td>\n",
       "      <td>1.641216</td>\n",
       "      <td>...</td>\n",
       "      <td>-1.561767</td>\n",
       "      <td>-0.111701</td>\n",
       "      <td>-1.819952</td>\n",
       "      <td>-0.687485</td>\n",
       "      <td>0.420283</td>\n",
       "      <td>-1.228820</td>\n",
       "      <td>0.769485</td>\n",
       "      <td>-0.146520</td>\n",
       "      <td>-0.640254</td>\n",
       "      <td>0.022801</td>\n",
       "    </tr>\n",
       "    <tr>\n",
       "      <th>1</th>\n",
       "      <td>True</td>\n",
       "      <td>0.325083</td>\n",
       "      <td>1.132485</td>\n",
       "      <td>0.386722</td>\n",
       "      <td>-0.806117</td>\n",
       "      <td>0.222724</td>\n",
       "      <td>0.258262</td>\n",
       "      <td>-1.306257</td>\n",
       "      <td>-0.370106</td>\n",
       "      <td>0.298136</td>\n",
       "      <td>...</td>\n",
       "      <td>-1.359934</td>\n",
       "      <td>-0.350516</td>\n",
       "      <td>-0.337697</td>\n",
       "      <td>-0.727332</td>\n",
       "      <td>0.685017</td>\n",
       "      <td>-0.298220</td>\n",
       "      <td>0.162071</td>\n",
       "      <td>-1.024459</td>\n",
       "      <td>-1.174072</td>\n",
       "      <td>-0.090377</td>\n",
       "    </tr>\n",
       "    <tr>\n",
       "      <th>2</th>\n",
       "      <td>True</td>\n",
       "      <td>1.130774</td>\n",
       "      <td>-0.539893</td>\n",
       "      <td>-0.026254</td>\n",
       "      <td>2.525591</td>\n",
       "      <td>-0.058954</td>\n",
       "      <td>0.138315</td>\n",
       "      <td>-0.453626</td>\n",
       "      <td>-0.041526</td>\n",
       "      <td>-1.230109</td>\n",
       "      <td>...</td>\n",
       "      <td>-1.738227</td>\n",
       "      <td>1.174132</td>\n",
       "      <td>-0.237114</td>\n",
       "      <td>-1.097397</td>\n",
       "      <td>0.101519</td>\n",
       "      <td>0.754470</td>\n",
       "      <td>0.416478</td>\n",
       "      <td>-1.038084</td>\n",
       "      <td>0.127983</td>\n",
       "      <td>-1.722391</td>\n",
       "    </tr>\n",
       "    <tr>\n",
       "      <th>3</th>\n",
       "      <td>False</td>\n",
       "      <td>-0.386716</td>\n",
       "      <td>0.592336</td>\n",
       "      <td>0.254997</td>\n",
       "      <td>-0.039923</td>\n",
       "      <td>-0.047023</td>\n",
       "      <td>-0.378955</td>\n",
       "      <td>0.092329</td>\n",
       "      <td>-0.891133</td>\n",
       "      <td>0.041510</td>\n",
       "      <td>...</td>\n",
       "      <td>-0.144276</td>\n",
       "      <td>0.757067</td>\n",
       "      <td>0.136975</td>\n",
       "      <td>-0.233106</td>\n",
       "      <td>1.061653</td>\n",
       "      <td>-0.251082</td>\n",
       "      <td>0.238645</td>\n",
       "      <td>-0.544927</td>\n",
       "      <td>-0.025400</td>\n",
       "      <td>0.346887</td>\n",
       "    </tr>\n",
       "    <tr>\n",
       "      <th>4</th>\n",
       "      <td>False</td>\n",
       "      <td>0.166944</td>\n",
       "      <td>1.137652</td>\n",
       "      <td>-0.462164</td>\n",
       "      <td>0.276122</td>\n",
       "      <td>-0.772688</td>\n",
       "      <td>0.097490</td>\n",
       "      <td>0.873750</td>\n",
       "      <td>-0.678361</td>\n",
       "      <td>-0.871904</td>\n",
       "      <td>...</td>\n",
       "      <td>-0.950764</td>\n",
       "      <td>0.449472</td>\n",
       "      <td>-0.759913</td>\n",
       "      <td>0.972024</td>\n",
       "      <td>-0.804160</td>\n",
       "      <td>-1.093794</td>\n",
       "      <td>0.371327</td>\n",
       "      <td>0.021101</td>\n",
       "      <td>-0.968555</td>\n",
       "      <td>1.170041</td>\n",
       "    </tr>\n",
       "  </tbody>\n",
       "</table>\n",
       "<p>5 rows × 201 columns</p>\n",
       "</div>"
      ],
      "text/plain": [
       "    Related_To         0         1         2         3         4         5  \\\n",
       "no                                                                           \n",
       "0         True -0.369257  1.561745 -0.327558  0.363364 -1.073315  1.331756   \n",
       "1         True  0.325083  1.132485  0.386722 -0.806117  0.222724  0.258262   \n",
       "2         True  1.130774 -0.539893 -0.026254  2.525591 -0.058954  0.138315   \n",
       "3        False -0.386716  0.592336  0.254997 -0.039923 -0.047023 -0.378955   \n",
       "4        False  0.166944  1.137652 -0.462164  0.276122 -0.772688  0.097490   \n",
       "\n",
       "           6         7         8  ...       190       191       192       193  \\\n",
       "no                                ...                                           \n",
       "0   0.808982 -0.430057  1.641216  ... -1.561767 -0.111701 -1.819952 -0.687485   \n",
       "1  -1.306257 -0.370106  0.298136  ... -1.359934 -0.350516 -0.337697 -0.727332   \n",
       "2  -0.453626 -0.041526 -1.230109  ... -1.738227  1.174132 -0.237114 -1.097397   \n",
       "3   0.092329 -0.891133  0.041510  ... -0.144276  0.757067  0.136975 -0.233106   \n",
       "4   0.873750 -0.678361 -0.871904  ... -0.950764  0.449472 -0.759913  0.972024   \n",
       "\n",
       "         194       195       196       197       198       199  \n",
       "no                                                              \n",
       "0   0.420283 -1.228820  0.769485 -0.146520 -0.640254  0.022801  \n",
       "1   0.685017 -0.298220  0.162071 -1.024459 -1.174072 -0.090377  \n",
       "2   0.101519  0.754470  0.416478 -1.038084  0.127983 -1.722391  \n",
       "3   1.061653 -0.251082  0.238645 -0.544927 -0.025400  0.346887  \n",
       "4  -0.804160 -1.093794  0.371327  0.021101 -0.968555  1.170041  \n",
       "\n",
       "[5 rows x 201 columns]"
      ]
     },
     "execution_count": 6,
     "metadata": {},
     "output_type": "execute_result"
    }
   ],
   "source": [
    "train.head()"
   ]
  },
  {
   "cell_type": "code",
   "execution_count": 92,
   "metadata": {},
   "outputs": [],
   "source": [
    "X_train=train.iloc[:,1:200].to_numpy()\n",
    "Y_train=train.iloc[:,0].to_numpy()\n",
    "X_test=test.iloc[:,1:200].to_numpy()\n",
    "Y_test=test.iloc[:,0].to_numpy()"
   ]
  },
  {
   "cell_type": "code",
   "execution_count": 93,
   "metadata": {},
   "outputs": [
    {
     "data": {
      "text/plain": [
       "array([False,  True,  True, ...,  True,  True,  True])"
      ]
     },
     "execution_count": 93,
     "metadata": {},
     "output_type": "execute_result"
    }
   ],
   "source": [
    "Y_test"
   ]
  },
  {
   "cell_type": "code",
   "execution_count": 91,
   "metadata": {},
   "outputs": [
    {
     "data": {
      "text/html": [
       "<div>\n",
       "<style scoped>\n",
       "    .dataframe tbody tr th:only-of-type {\n",
       "        vertical-align: middle;\n",
       "    }\n",
       "\n",
       "    .dataframe tbody tr th {\n",
       "        vertical-align: top;\n",
       "    }\n",
       "\n",
       "    .dataframe thead th {\n",
       "        text-align: right;\n",
       "    }\n",
       "</style>\n",
       "<table border=\"1\" class=\"dataframe\">\n",
       "  <thead>\n",
       "    <tr style=\"text-align: right;\">\n",
       "      <th></th>\n",
       "      <th>0</th>\n",
       "      <th>1</th>\n",
       "      <th>2</th>\n",
       "      <th>3</th>\n",
       "      <th>4</th>\n",
       "      <th>5</th>\n",
       "      <th>6</th>\n",
       "    </tr>\n",
       "  </thead>\n",
       "  <tbody>\n",
       "    <tr>\n",
       "      <th>0</th>\n",
       "      <td>1.000000</td>\n",
       "      <td>-0.003000</td>\n",
       "      <td>-0.014762</td>\n",
       "      <td>0.050499</td>\n",
       "      <td>0.035887</td>\n",
       "      <td>-0.004333</td>\n",
       "      <td>0.050011</td>\n",
       "    </tr>\n",
       "    <tr>\n",
       "      <th>1</th>\n",
       "      <td>-0.003000</td>\n",
       "      <td>1.000000</td>\n",
       "      <td>-0.004629</td>\n",
       "      <td>-0.001657</td>\n",
       "      <td>0.006519</td>\n",
       "      <td>0.016567</td>\n",
       "      <td>-0.041731</td>\n",
       "    </tr>\n",
       "    <tr>\n",
       "      <th>2</th>\n",
       "      <td>-0.014762</td>\n",
       "      <td>-0.004629</td>\n",
       "      <td>1.000000</td>\n",
       "      <td>0.041342</td>\n",
       "      <td>-0.058466</td>\n",
       "      <td>0.006980</td>\n",
       "      <td>-0.009623</td>\n",
       "    </tr>\n",
       "    <tr>\n",
       "      <th>3</th>\n",
       "      <td>0.050499</td>\n",
       "      <td>-0.001657</td>\n",
       "      <td>0.041342</td>\n",
       "      <td>1.000000</td>\n",
       "      <td>0.034448</td>\n",
       "      <td>0.041399</td>\n",
       "      <td>-0.048674</td>\n",
       "    </tr>\n",
       "    <tr>\n",
       "      <th>4</th>\n",
       "      <td>0.035887</td>\n",
       "      <td>0.006519</td>\n",
       "      <td>-0.058466</td>\n",
       "      <td>0.034448</td>\n",
       "      <td>1.000000</td>\n",
       "      <td>0.017859</td>\n",
       "      <td>-0.019764</td>\n",
       "    </tr>\n",
       "    <tr>\n",
       "      <th>5</th>\n",
       "      <td>-0.004333</td>\n",
       "      <td>0.016567</td>\n",
       "      <td>0.006980</td>\n",
       "      <td>0.041399</td>\n",
       "      <td>0.017859</td>\n",
       "      <td>1.000000</td>\n",
       "      <td>0.032178</td>\n",
       "    </tr>\n",
       "    <tr>\n",
       "      <th>6</th>\n",
       "      <td>0.050011</td>\n",
       "      <td>-0.041731</td>\n",
       "      <td>-0.009623</td>\n",
       "      <td>-0.048674</td>\n",
       "      <td>-0.019764</td>\n",
       "      <td>0.032178</td>\n",
       "      <td>1.000000</td>\n",
       "    </tr>\n",
       "  </tbody>\n",
       "</table>\n",
       "</div>"
      ],
      "text/plain": [
       "          0         1         2         3         4         5         6\n",
       "0  1.000000 -0.003000 -0.014762  0.050499  0.035887 -0.004333  0.050011\n",
       "1 -0.003000  1.000000 -0.004629 -0.001657  0.006519  0.016567 -0.041731\n",
       "2 -0.014762 -0.004629  1.000000  0.041342 -0.058466  0.006980 -0.009623\n",
       "3  0.050499 -0.001657  0.041342  1.000000  0.034448  0.041399 -0.048674\n",
       "4  0.035887  0.006519 -0.058466  0.034448  1.000000  0.017859 -0.019764\n",
       "5 -0.004333  0.016567  0.006980  0.041399  0.017859  1.000000  0.032178\n",
       "6  0.050011 -0.041731 -0.009623 -0.048674 -0.019764  0.032178  1.000000"
      ]
     },
     "execution_count": 91,
     "metadata": {},
     "output_type": "execute_result"
    }
   ],
   "source": [
    "test.iloc[:,1:8].corr()"
   ]
  },
  {
   "cell_type": "markdown",
   "metadata": {},
   "source": [
    "## PCA Analysis: Finding the best perameter (the number of components)"
   ]
  },
  {
   "cell_type": "code",
   "execution_count": 334,
   "metadata": {},
   "outputs": [],
   "source": [
    "from sklearn.decomposition import PCA\n",
    "from sklearn.model_selection import GridSearchCV"
   ]
  },
  {
   "cell_type": "code",
   "execution_count": 335,
   "metadata": {},
   "outputs": [
    {
     "name": "stdout",
     "output_type": "stream",
     "text": [
      "Best parameter (CV score=-88.532):\n",
      "{'n_components': 45}\n",
      "Wall time: 4.78 s\n"
     ]
    }
   ],
   "source": [
    "%%time \n",
    "pca = PCA()\n",
    "\n",
    "# Parameters of pipelines can be set using ‘__’ separated parameter names:\n",
    "param_grid = {\n",
    "    'n_components': [5, 15, 30, 45, 64,96,128]\n",
    "}\n",
    "search = GridSearchCV(pca, param_grid, n_jobs=-1)\n",
    "search.fit(X_train)\n",
    "print(\"Best parameter (CV score=%0.3f):\" % search.best_score_)\n",
    "print(search.best_params_)\n"
   ]
  },
  {
   "cell_type": "markdown",
   "metadata": {},
   "source": [
    "## A simple Logistic regression test"
   ]
  },
  {
   "cell_type": "code",
   "execution_count": 10,
   "metadata": {},
   "outputs": [
    {
     "name": "stdout",
     "output_type": "stream",
     "text": [
      "Wall time: 639 ms\n"
     ]
    }
   ],
   "source": [
    "%%time \n",
    "from sklearn.linear_model import LogisticRegression\n",
    "LR = LogisticRegression(random_state=0,solver='saga').fit(X_train, Y_train)"
   ]
  },
  {
   "cell_type": "code",
   "execution_count": 62,
   "metadata": {},
   "outputs": [
    {
     "name": "stdout",
     "output_type": "stream",
     "text": [
      "Accuracy on training data set:\n"
     ]
    }
   ],
   "source": [
    "print('Accuracy on training data set:')"
   ]
  },
  {
   "cell_type": "code",
   "execution_count": 11,
   "metadata": {},
   "outputs": [
    {
     "data": {
      "text/plain": [
       "0.6560326714213844"
      ]
     },
     "execution_count": 11,
     "metadata": {},
     "output_type": "execute_result"
    }
   ],
   "source": [
    "LR.score(X_train, Y_train)"
   ]
  },
  {
   "cell_type": "code",
   "execution_count": 628,
   "metadata": {},
   "outputs": [],
   "source": [
    "pre_Train=LR.predict(X_train)"
   ]
  },
  {
   "cell_type": "code",
   "execution_count": 629,
   "metadata": {},
   "outputs": [
    {
     "name": "stdout",
     "output_type": "stream",
     "text": [
      "              precision    recall  f1-score   support\n",
      "\n",
      "       False       0.66      0.61      0.63     16460\n",
      "        True       0.66      0.70      0.67     17331\n",
      "\n",
      "    accuracy                           0.66     33791\n",
      "   macro avg       0.66      0.65      0.65     33791\n",
      "weighted avg       0.66      0.66      0.66     33791\n",
      "\n"
     ]
    }
   ],
   "source": [
    "print(metrics.classification_report(Y_train,pre_Train))"
   ]
  },
  {
   "cell_type": "code",
   "execution_count": 630,
   "metadata": {},
   "outputs": [],
   "source": [
    "predictions=LR.predict(X_test)"
   ]
  },
  {
   "cell_type": "code",
   "execution_count": 631,
   "metadata": {
    "scrolled": true
   },
   "outputs": [
    {
     "name": "stdout",
     "output_type": "stream",
     "text": [
      "              precision    recall  f1-score   support\n",
      "\n",
      "       False       0.66      0.53      0.59      4432\n",
      "        True       0.61      0.73      0.66      4432\n",
      "\n",
      "    accuracy                           0.63      8864\n",
      "   macro avg       0.63      0.63      0.62      8864\n",
      "weighted avg       0.63      0.63      0.62      8864\n",
      "\n"
     ]
    }
   ],
   "source": [
    "print(metrics.classification_report(Y_test,predictions))"
   ]
  },
  {
   "cell_type": "code",
   "execution_count": 61,
   "metadata": {},
   "outputs": [
    {
     "name": "stdout",
     "output_type": "stream",
     "text": [
      "Accuracy on test data set:\n"
     ]
    }
   ],
   "source": [
    "print('Accuracy on test data set:')"
   ]
  },
  {
   "cell_type": "code",
   "execution_count": 653,
   "metadata": {},
   "outputs": [
    {
     "name": "stdout",
     "output_type": "stream",
     "text": [
      "0.6243231046931408\n"
     ]
    }
   ],
   "source": [
    "print(metrics.accuracy_score(Y_test,predictions))"
   ]
  },
  {
   "cell_type": "markdown",
   "metadata": {},
   "source": [
    "The model acts poorly on the test data set"
   ]
  },
  {
   "cell_type": "markdown",
   "metadata": {},
   "source": [
    "## Nerual Network"
   ]
  },
  {
   "cell_type": "code",
   "execution_count": 12,
   "metadata": {},
   "outputs": [
    {
     "data": {
      "text/plain": [
       "array([1.e-01, 1.e-02, 1.e-03, 1.e-04, 1.e-05, 1.e-06])"
      ]
     },
     "execution_count": 12,
     "metadata": {},
     "output_type": "execute_result"
    }
   ],
   "source": [
    "10.0 ** -np.arange(1, 7)"
   ]
  },
  {
   "cell_type": "code",
   "execution_count": 94,
   "metadata": {},
   "outputs": [
    {
     "name": "stderr",
     "output_type": "stream",
     "text": [
      "C:\\ProgramData\\Anaconda3\\lib\\site-packages\\sklearn\\neural_network\\_multilayer_perceptron.py:471: ConvergenceWarning: lbfgs failed to converge (status=1):\n",
      "STOP: TOTAL NO. of ITERATIONS REACHED LIMIT.\n",
      "\n",
      "Increase the number of iterations (max_iter) or scale the data as shown in:\n",
      "    https://scikit-learn.org/stable/modules/preprocessing.html\n",
      "  self.n_iter_ = _check_optimize_result(\"lbfgs\", opt_res, self.max_iter)\n"
     ]
    },
    {
     "data": {
      "text/plain": [
       "MLPClassifier(activation='logistic', alpha=1e-05, random_state=1,\n",
       "              solver='lbfgs')"
      ]
     },
     "execution_count": 94,
     "metadata": {},
     "output_type": "execute_result"
    }
   ],
   "source": [
    "from sklearn.neural_network import MLPClassifier\n",
    "\n",
    "clf = MLPClassifier(solver='lbfgs', activation='logistic' , alpha=1e-05,  hidden_layer_sizes=(100,) , random_state=1)\n",
    "\n",
    "clf.fit(X_train, Y_train)"
   ]
  },
  {
   "cell_type": "code",
   "execution_count": 95,
   "metadata": {},
   "outputs": [],
   "source": [
    "pre_Train=clf.predict(X_train)"
   ]
  },
  {
   "cell_type": "code",
   "execution_count": 96,
   "metadata": {},
   "outputs": [
    {
     "name": "stdout",
     "output_type": "stream",
     "text": [
      "Accuracy on training data set:\n"
     ]
    }
   ],
   "source": [
    "print('Accuracy on training data set:')"
   ]
  },
  {
   "cell_type": "code",
   "execution_count": 97,
   "metadata": {},
   "outputs": [
    {
     "name": "stdout",
     "output_type": "stream",
     "text": [
      "0.9312538841703412\n"
     ]
    }
   ],
   "source": [
    "print((metrics.accuracy_score(Y_train,pre_Train)))"
   ]
  },
  {
   "cell_type": "code",
   "execution_count": 98,
   "metadata": {},
   "outputs": [
    {
     "name": "stdout",
     "output_type": "stream",
     "text": [
      "              precision    recall  f1-score   support\n",
      "\n",
      "       False       0.92      0.94      0.93     16460\n",
      "        True       0.94      0.93      0.93     17331\n",
      "\n",
      "    accuracy                           0.93     33791\n",
      "   macro avg       0.93      0.93      0.93     33791\n",
      "weighted avg       0.93      0.93      0.93     33791\n",
      "\n"
     ]
    }
   ],
   "source": [
    "print(metrics.classification_report(Y_train,pre_Train))"
   ]
  },
  {
   "cell_type": "code",
   "execution_count": 99,
   "metadata": {},
   "outputs": [],
   "source": [
    "predictions=clf.predict(X_test)"
   ]
  },
  {
   "cell_type": "code",
   "execution_count": 100,
   "metadata": {},
   "outputs": [
    {
     "name": "stdout",
     "output_type": "stream",
     "text": [
      "              precision    recall  f1-score   support\n",
      "\n",
      "       False       0.62      0.71      0.66      4432\n",
      "        True       0.66      0.56      0.60      4432\n",
      "\n",
      "    accuracy                           0.63      8864\n",
      "   macro avg       0.64      0.63      0.63      8864\n",
      "weighted avg       0.64      0.63      0.63      8864\n",
      "\n"
     ]
    }
   ],
   "source": [
    "print(metrics.classification_report(Y_test,predictions))"
   ]
  },
  {
   "cell_type": "code",
   "execution_count": 101,
   "metadata": {},
   "outputs": [
    {
     "name": "stdout",
     "output_type": "stream",
     "text": [
      "Accuracy on test data set:\n"
     ]
    }
   ],
   "source": [
    "print('Accuracy on test data set:')"
   ]
  },
  {
   "cell_type": "code",
   "execution_count": 102,
   "metadata": {},
   "outputs": [
    {
     "name": "stdout",
     "output_type": "stream",
     "text": [
      "0.634927797833935\n"
     ]
    }
   ],
   "source": [
    "print(metrics.accuracy_score(Y_test,predictions))"
   ]
  },
  {
   "cell_type": "markdown",
   "metadata": {},
   "source": [
    "## Grid Search for NN"
   ]
  },
  {
   "cell_type": "code",
   "execution_count": 40,
   "metadata": {},
   "outputs": [],
   "source": [
    "\n",
    "nn=MLPClassifier()\n",
    "activation=['logistic','tanh','relu','identity']\n",
    "solver =['lbfgs','sgd','adam']\n",
    "alpha=10.0 ** -np.arange(1, 7)\n",
    "param={'activation':activation, \"solver\": solver, 'alpha':alpha, 'random_state':[1]}"
   ]
  },
  {
   "cell_type": "code",
   "execution_count": 41,
   "metadata": {},
   "outputs": [
    {
     "data": {
      "text/plain": [
       "{'activation': ['logistic', 'tanh', 'relu', 'identity'],\n",
       " 'solver': ['lbfgs', 'sgd', 'adam'],\n",
       " 'alpha': array([1.e-01, 1.e-02, 1.e-03, 1.e-04, 1.e-05, 1.e-06]),\n",
       " 'random_state': [1]}"
      ]
     },
     "execution_count": 41,
     "metadata": {},
     "output_type": "execute_result"
    }
   ],
   "source": [
    "param"
   ]
  },
  {
   "cell_type": "code",
   "execution_count": 42,
   "metadata": {},
   "outputs": [
    {
     "name": "stdout",
     "output_type": "stream",
     "text": [
      "Fitting 5 folds for each of 72 candidates, totalling 360 fits\n"
     ]
    },
    {
     "name": "stderr",
     "output_type": "stream",
     "text": [
      "[Parallel(n_jobs=-1)]: Using backend LokyBackend with 4 concurrent workers.\n",
      "[Parallel(n_jobs=-1)]: Done  24 tasks      | elapsed:  2.3min\n",
      "[Parallel(n_jobs=-1)]: Done 120 tasks      | elapsed: 13.4min\n",
      "[Parallel(n_jobs=-1)]: Done 280 tasks      | elapsed: 34.4min\n",
      "[Parallel(n_jobs=-1)]: Done 360 out of 360 | elapsed: 35.5min finished\n"
     ]
    },
    {
     "name": "stdout",
     "output_type": "stream",
     "text": [
      "Wall time: 36min 12s\n"
     ]
    },
    {
     "name": "stderr",
     "output_type": "stream",
     "text": [
      "C:\\ProgramData\\Anaconda3\\lib\\site-packages\\sklearn\\neural_network\\_multilayer_perceptron.py:582: ConvergenceWarning: Stochastic Optimizer: Maximum iterations (200) reached and the optimization hasn't converged yet.\n",
      "  warnings.warn(\n"
     ]
    },
    {
     "data": {
      "text/plain": [
       "GridSearchCV(cv=5, estimator=MLPClassifier(), n_jobs=-1,\n",
       "             param_grid={'activation': ['logistic', 'tanh', 'relu', 'identity'],\n",
       "                         'alpha': array([1.e-01, 1.e-02, 1.e-03, 1.e-04, 1.e-05, 1.e-06]),\n",
       "                         'random_state': [1],\n",
       "                         'solver': ['lbfgs', 'sgd', 'adam']},\n",
       "             scoring='accuracy', verbose=3)"
      ]
     },
     "execution_count": 42,
     "metadata": {},
     "output_type": "execute_result"
    }
   ],
   "source": [
    "%%time \n",
    "\n",
    "nn_grid=GridSearchCV(estimator=nn,param_grid=param, scoring='accuracy', n_jobs=-1, verbose=3,cv=5)\n",
    "nn_grid.fit(X_train,Y_train)"
   ]
  },
  {
   "cell_type": "code",
   "execution_count": 26,
   "metadata": {},
   "outputs": [
    {
     "data": {
      "text/plain": [
       "{'activation': 'relu', 'alpha': 1e-06, 'solver': 'sgd'}"
      ]
     },
     "execution_count": 26,
     "metadata": {},
     "output_type": "execute_result"
    }
   ],
   "source": [
    "nn_grid.best_params_"
   ]
  },
  {
   "cell_type": "code",
   "execution_count": 43,
   "metadata": {},
   "outputs": [
    {
     "data": {
      "text/plain": [
       "0.6791763755326987"
      ]
     },
     "execution_count": 43,
     "metadata": {},
     "output_type": "execute_result"
    }
   ],
   "source": [
    "nn_grid.best_score_"
   ]
  },
  {
   "cell_type": "code",
   "execution_count": 44,
   "metadata": {},
   "outputs": [],
   "source": [
    "predictions=nn_grid.predict(X_test)"
   ]
  },
  {
   "cell_type": "code",
   "execution_count": 45,
   "metadata": {},
   "outputs": [
    {
     "name": "stdout",
     "output_type": "stream",
     "text": [
      "              precision    recall  f1-score   support\n",
      "\n",
      "       False       0.64      0.69      0.67      4432\n",
      "        True       0.67      0.62      0.64      4432\n",
      "\n",
      "    accuracy                           0.66      8864\n",
      "   macro avg       0.66      0.66      0.66      8864\n",
      "weighted avg       0.66      0.66      0.66      8864\n",
      "\n"
     ]
    }
   ],
   "source": [
    "print(metrics.classification_report(Y_test,predictions))"
   ]
  },
  {
   "cell_type": "code",
   "execution_count": 64,
   "metadata": {},
   "outputs": [
    {
     "name": "stdout",
     "output_type": "stream",
     "text": [
      "Accuracy on test data set:\n"
     ]
    }
   ],
   "source": [
    "print('Accuracy on test data set:')"
   ]
  },
  {
   "cell_type": "code",
   "execution_count": 46,
   "metadata": {},
   "outputs": [
    {
     "name": "stdout",
     "output_type": "stream",
     "text": [
      "0.6556859205776173\n"
     ]
    }
   ],
   "source": [
    "print(metrics.accuracy_score(Y_test,predictions))"
   ]
  },
  {
   "cell_type": "markdown",
   "metadata": {},
   "source": [
    "## Tree Classifier"
   ]
  },
  {
   "cell_type": "code",
   "execution_count": 654,
   "metadata": {},
   "outputs": [
    {
     "data": {
      "text/plain": [
       "array([0.54674556, 0.5315182 , 0.55844925, 0.58064516, 0.58182894,\n",
       "       0.58952353, 0.581533  , 0.59100326, 0.58301273, 0.58745191])"
      ]
     },
     "execution_count": 654,
     "metadata": {},
     "output_type": "execute_result"
    }
   ],
   "source": [
    "from sklearn.datasets import load_iris\n",
    "from sklearn.model_selection import cross_val_score\n",
    "from sklearn.tree import DecisionTreeClassifier\n",
    "clf = DecisionTreeClassifier(random_state=0)\n",
    "\n",
    "cross_val_score(clf, X_train, Y_train, cv=10)"
   ]
  },
  {
   "cell_type": "code",
   "execution_count": 655,
   "metadata": {},
   "outputs": [
    {
     "data": {
      "text/plain": [
       "0.5351128998845847"
      ]
     },
     "execution_count": 655,
     "metadata": {},
     "output_type": "execute_result"
    }
   ],
   "source": [
    "clf.fit(X_test, Y_test)\n",
    "clf.score(X_train, Y_train)"
   ]
  },
  {
   "cell_type": "markdown",
   "metadata": {},
   "source": [
    "## Random Forest: GridSearch to find best parameters for random forest"
   ]
  },
  {
   "cell_type": "code",
   "execution_count": 656,
   "metadata": {},
   "outputs": [],
   "source": [
    "from sklearn.ensemble import RandomForestClassifier"
   ]
  },
  {
   "cell_type": "code",
   "execution_count": 660,
   "metadata": {},
   "outputs": [],
   "source": [
    "Rf = RandomForestClassifier(max_features= None,n_estimators=25).fit(X_train, Y_train)"
   ]
  },
  {
   "cell_type": "code",
   "execution_count": 661,
   "metadata": {},
   "outputs": [
    {
     "data": {
      "text/plain": [
       "0.999437720102986"
      ]
     },
     "execution_count": 661,
     "metadata": {},
     "output_type": "execute_result"
    }
   ],
   "source": [
    "Rf.score(X_train, Y_train)"
   ]
  },
  {
   "cell_type": "code",
   "execution_count": 662,
   "metadata": {},
   "outputs": [
    {
     "name": "stdout",
     "output_type": "stream",
     "text": [
      "              precision    recall  f1-score   support\n",
      "\n",
      "       False       1.00      1.00      1.00     16460\n",
      "        True       1.00      1.00      1.00     17331\n",
      "\n",
      "    accuracy                           1.00     33791\n",
      "   macro avg       1.00      1.00      1.00     33791\n",
      "weighted avg       1.00      1.00      1.00     33791\n",
      "\n"
     ]
    }
   ],
   "source": [
    "pre_Train=Rf.predict(X_train)\n",
    "print(metrics.classification_report(Y_train,pre_Train))"
   ]
  },
  {
   "cell_type": "code",
   "execution_count": 65,
   "metadata": {},
   "outputs": [
    {
     "name": "stdout",
     "output_type": "stream",
     "text": [
      "Accuracy on test data set:\n"
     ]
    }
   ],
   "source": [
    "print('Accuracy on test data set:')"
   ]
  },
  {
   "cell_type": "code",
   "execution_count": 663,
   "metadata": {},
   "outputs": [],
   "source": [
    "predictions=Rf.predict(X_test)"
   ]
  },
  {
   "cell_type": "code",
   "execution_count": 664,
   "metadata": {},
   "outputs": [
    {
     "name": "stdout",
     "output_type": "stream",
     "text": [
      "              precision    recall  f1-score   support\n",
      "\n",
      "       False       0.60      0.58      0.59      4432\n",
      "        True       0.59      0.61      0.60      4432\n",
      "\n",
      "    accuracy                           0.60      8864\n",
      "   macro avg       0.60      0.60      0.60      8864\n",
      "weighted avg       0.60      0.60      0.60      8864\n",
      "\n"
     ]
    }
   ],
   "source": [
    "print(metrics.classification_report(Y_test,predictions))"
   ]
  },
  {
   "cell_type": "code",
   "execution_count": 665,
   "metadata": {},
   "outputs": [
    {
     "name": "stdout",
     "output_type": "stream",
     "text": [
      "0.5953294223826715\n"
     ]
    }
   ],
   "source": [
    "print(metrics.accuracy_score(Y_test,predictions))"
   ]
  },
  {
   "cell_type": "code",
   "execution_count": 221,
   "metadata": {},
   "outputs": [
    {
     "data": {
      "text/plain": [
       "array([1, 0, 0, ..., 1, 0, 1], dtype=int64)"
      ]
     },
     "execution_count": 221,
     "metadata": {},
     "output_type": "execute_result"
    }
   ],
   "source": [
    "predictions"
   ]
  },
  {
   "cell_type": "markdown",
   "metadata": {},
   "source": [
    "### Grid Search"
   ]
  },
  {
   "cell_type": "code",
   "execution_count": 65,
   "metadata": {},
   "outputs": [],
   "source": [
    "rf=RandomForestClassifier()\n",
    "n=[i+1 for i in range(25)]\n",
    "mfeat=['auto', 'log2', None]\n",
    "param={'n_estimators':n, \"max_features\": mfeat}"
   ]
  },
  {
   "cell_type": "code",
   "execution_count": 66,
   "metadata": {},
   "outputs": [
    {
     "name": "stdout",
     "output_type": "stream",
     "text": [
      "Fitting 5 folds for each of 75 candidates, totalling 375 fits\n"
     ]
    },
    {
     "name": "stderr",
     "output_type": "stream",
     "text": [
      "[Parallel(n_jobs=-1)]: Using backend LokyBackend with 4 concurrent workers.\n",
      "[Parallel(n_jobs=-1)]: Done  24 tasks      | elapsed:   11.9s\n",
      "[Parallel(n_jobs=-1)]: Done 120 tasks      | elapsed:  3.2min\n",
      "[Parallel(n_jobs=-1)]: Done 280 tasks      | elapsed:  8.5min\n",
      "[Parallel(n_jobs=-1)]: Done 375 out of 375 | elapsed: 52.3min finished\n"
     ]
    },
    {
     "data": {
      "text/plain": [
       "GridSearchCV(cv=5, estimator=RandomForestClassifier(), n_jobs=-1,\n",
       "             param_grid={'max_features': ['auto', 'log2', None],\n",
       "                         'n_estimators': [1, 2, 3, 4, 5, 6, 7, 8, 9, 10, 11, 12,\n",
       "                                          13, 14, 15, 16, 17, 18, 19, 20, 21,\n",
       "                                          22, 23, 24, 25]},\n",
       "             scoring='accuracy', verbose=3)"
      ]
     },
     "execution_count": 66,
     "metadata": {},
     "output_type": "execute_result"
    }
   ],
   "source": [
    "rf_grid=GridSearchCV(estimator=rf,param_grid=param, scoring='accuracy', n_jobs=-1, verbose=3,cv=5)\n",
    "rf_grid.fit(X_train,Y_train)"
   ]
  },
  {
   "cell_type": "code",
   "execution_count": 67,
   "metadata": {},
   "outputs": [
    {
     "data": {
      "text/plain": [
       "{'max_features': None, 'n_estimators': 25}"
      ]
     },
     "execution_count": 67,
     "metadata": {},
     "output_type": "execute_result"
    }
   ],
   "source": [
    "rf_grid.best_params_"
   ]
  },
  {
   "cell_type": "code",
   "execution_count": 68,
   "metadata": {},
   "outputs": [],
   "source": [
    "predictions=rf_grid.predict(X_test)"
   ]
  },
  {
   "cell_type": "code",
   "execution_count": 69,
   "metadata": {},
   "outputs": [
    {
     "name": "stdout",
     "output_type": "stream",
     "text": [
      "              precision    recall  f1-score   support\n",
      "\n",
      "           0       0.50      0.61      0.55      4432\n",
      "           1       0.50      0.39      0.44      4432\n",
      "\n",
      "    accuracy                           0.50      8864\n",
      "   macro avg       0.50      0.50      0.50      8864\n",
      "weighted avg       0.50      0.50      0.50      8864\n",
      "\n"
     ]
    }
   ],
   "source": [
    "print(metrics.classification_report(Y_test,predictions))"
   ]
  },
  {
   "cell_type": "code",
   "execution_count": 71,
   "metadata": {},
   "outputs": [
    {
     "name": "stdout",
     "output_type": "stream",
     "text": [
      "The accuracy Score is 0.5011281588447654\n"
     ]
    }
   ],
   "source": [
    "print('The accuracy Score is ' + str(metrics.accuracy_score(Y_test,predictions)))"
   ]
  },
  {
   "cell_type": "markdown",
   "metadata": {},
   "source": [
    "## Using PCA "
   ]
  },
  {
   "cell_type": "code",
   "execution_count": 666,
   "metadata": {},
   "outputs": [],
   "source": [
    "from sklearn import decomposition\n"
   ]
  },
  {
   "cell_type": "code",
   "execution_count": 667,
   "metadata": {},
   "outputs": [],
   "source": [
    "pca = decomposition.PCA(n_components=32)\n",
    "pca.fit(X_train)\n",
    "\n",
    "TrainingX = pca.transform(X_train)"
   ]
  },
  {
   "cell_type": "code",
   "execution_count": 668,
   "metadata": {},
   "outputs": [],
   "source": [
    "pca = decomposition.PCA(n_components=32)\n",
    "pca.fit(X_test)\n",
    "\n",
    "testX = pca.transform(X_test)"
   ]
  },
  {
   "cell_type": "code",
   "execution_count": 669,
   "metadata": {},
   "outputs": [
    {
     "name": "stdout",
     "output_type": "stream",
     "text": [
      "Wall time: 369 ms\n"
     ]
    }
   ],
   "source": [
    "%%time \n",
    "from sklearn.linear_model import LogisticRegression\n",
    "LR = LogisticRegression(random_state=0,solver='saga').fit(TrainingX, Y_train)"
   ]
  },
  {
   "cell_type": "code",
   "execution_count": 670,
   "metadata": {},
   "outputs": [
    {
     "data": {
      "text/plain": [
       "0.6474209108934331"
      ]
     },
     "execution_count": 670,
     "metadata": {},
     "output_type": "execute_result"
    }
   ],
   "source": [
    "LR.score(TrainingX, Y_train)"
   ]
  },
  {
   "cell_type": "code",
   "execution_count": 671,
   "metadata": {},
   "outputs": [],
   "source": [
    "pre_Train=LR.predict(TrainingX)"
   ]
  },
  {
   "cell_type": "code",
   "execution_count": 672,
   "metadata": {},
   "outputs": [
    {
     "name": "stdout",
     "output_type": "stream",
     "text": [
      "              precision    recall  f1-score   support\n",
      "\n",
      "       False       0.65      0.60      0.62     16460\n",
      "        True       0.65      0.69      0.67     17331\n",
      "\n",
      "    accuracy                           0.65     33791\n",
      "   macro avg       0.65      0.65      0.65     33791\n",
      "weighted avg       0.65      0.65      0.65     33791\n",
      "\n"
     ]
    }
   ],
   "source": [
    "print(metrics.classification_report(Y_train,pre_Train))"
   ]
  },
  {
   "cell_type": "code",
   "execution_count": 673,
   "metadata": {},
   "outputs": [],
   "source": [
    "predictions=LR.predict(testX)"
   ]
  },
  {
   "cell_type": "code",
   "execution_count": 674,
   "metadata": {},
   "outputs": [
    {
     "name": "stdout",
     "output_type": "stream",
     "text": [
      "              precision    recall  f1-score   support\n",
      "\n",
      "       False       0.51      0.43      0.46      4432\n",
      "        True       0.51      0.59      0.54      4432\n",
      "\n",
      "    accuracy                           0.51      8864\n",
      "   macro avg       0.51      0.51      0.50      8864\n",
      "weighted avg       0.51      0.51      0.50      8864\n",
      "\n"
     ]
    }
   ],
   "source": [
    "print(metrics.classification_report(Y_test,predictions))"
   ]
  },
  {
   "cell_type": "code",
   "execution_count": 675,
   "metadata": {},
   "outputs": [
    {
     "data": {
      "text/plain": [
       "5137"
      ]
     },
     "execution_count": 675,
     "metadata": {},
     "output_type": "execute_result"
    }
   ],
   "source": [
    "np.sum(predictions)"
   ]
  },
  {
   "cell_type": "markdown",
   "metadata": {},
   "source": [
    "## SVM"
   ]
  },
  {
   "cell_type": "code",
   "execution_count": 58,
   "metadata": {},
   "outputs": [
    {
     "data": {
      "text/plain": [
       "Pipeline(steps=[('standardscaler', StandardScaler()),\n",
       "                ('svc', SVC(gamma='auto'))])"
      ]
     },
     "execution_count": 58,
     "metadata": {},
     "output_type": "execute_result"
    }
   ],
   "source": [
    "import numpy as np\n",
    "from sklearn.pipeline import make_pipeline\n",
    "from sklearn.preprocessing import StandardScaler\n",
    "\n",
    "from sklearn.svm import SVC\n",
    "clf = make_pipeline(StandardScaler(), SVC(gamma='auto'))\n",
    "clf.fit(X_train,Y_train)\n"
   ]
  },
  {
   "cell_type": "code",
   "execution_count": 66,
   "metadata": {},
   "outputs": [],
   "source": [
    "predictions=clf.predict(X_train)"
   ]
  },
  {
   "cell_type": "code",
   "execution_count": 67,
   "metadata": {},
   "outputs": [
    {
     "name": "stdout",
     "output_type": "stream",
     "text": [
      "Preciosion on training set\n",
      "               precision    recall  f1-score   support\n",
      "\n",
      "       False       0.74      0.87      0.80     16460\n",
      "        True       0.85      0.72      0.78     17331\n",
      "\n",
      "    accuracy                           0.79     33791\n",
      "   macro avg       0.80      0.79      0.79     33791\n",
      "weighted avg       0.80      0.79      0.79     33791\n",
      "\n"
     ]
    }
   ],
   "source": [
    "print('Preciosion on training set\\n ' +metrics.classification_report(Y_train,predictions))"
   ]
  },
  {
   "cell_type": "code",
   "execution_count": 68,
   "metadata": {},
   "outputs": [],
   "source": [
    "pred=clf.predict(X_test)"
   ]
  },
  {
   "cell_type": "code",
   "execution_count": 69,
   "metadata": {},
   "outputs": [
    {
     "name": "stdout",
     "output_type": "stream",
     "text": [
      "Precision on test set\n",
      "               precision    recall  f1-score   support\n",
      "\n",
      "       False       0.62      0.82      0.71      4432\n",
      "        True       0.73      0.50      0.60      4432\n",
      "\n",
      "    accuracy                           0.66      8864\n",
      "   macro avg       0.68      0.66      0.65      8864\n",
      "weighted avg       0.68      0.66      0.65      8864\n",
      "\n"
     ]
    }
   ],
   "source": [
    "print('Precision on test set\\n ' +metrics.classification_report(Y_test,pred))"
   ]
  },
  {
   "cell_type": "code",
   "execution_count": 71,
   "metadata": {},
   "outputs": [
    {
     "name": "stdout",
     "output_type": "stream",
     "text": [
      "Accuracy on test data set:\n",
      "0.6599729241877257\n"
     ]
    }
   ],
   "source": [
    "print('Accuracy on test data set:')\n",
    "print(metrics.accuracy_score(Y_test,pred))"
   ]
  },
  {
   "cell_type": "markdown",
   "metadata": {},
   "source": [
    "## Keras Multilayer neural network"
   ]
  },
  {
   "cell_type": "code",
   "execution_count": 103,
   "metadata": {},
   "outputs": [
    {
     "name": "stdout",
     "output_type": "stream",
     "text": [
      "The tensorboard extension is already loaded. To reload it, use:\n",
      "  %reload_ext tensorboard\n"
     ]
    }
   ],
   "source": [
    "import tensorflow as tf\n",
    "import keras\n",
    "from keras.models import Sequential\n",
    "from keras.layers import Dense\n",
    "%load_ext tensorboard\n",
    "import datetime"
   ]
  },
  {
   "cell_type": "code",
   "execution_count": 104,
   "metadata": {},
   "outputs": [],
   "source": [
    "model = Sequential()\n",
    "model.add(Dense(10, input_dim= 199, activation='relu'))\n",
    "model.add(Dense(2, activation='sigmoid'))\n",
    "model.add(Dense(1, activation='sigmoid'))"
   ]
  },
  {
   "cell_type": "code",
   "execution_count": 105,
   "metadata": {},
   "outputs": [],
   "source": [
    "cosine_loss = tf.keras.losses.CosineSimilarity()\n",
    "l = tf.keras.losses.LogCosh()\n",
    "h = tf.keras.losses.Huber()\n",
    "b = 'binary_crossentropy'\n",
    "poisson = tf.keras.losses.Poisson\n",
    "opt = keras.optimizers.Adam(learning_rate=0.005)\n",
    "KLD = tf.keras.losses.KLDivergence(reduction=\"auto\", name=\"kl_divergence\")\n",
    "\n",
    "model.compile(loss=l , optimizer=opt, metrics=['accuracy'])"
   ]
  },
  {
   "cell_type": "code",
   "execution_count": 106,
   "metadata": {},
   "outputs": [
    {
     "name": "stdout",
     "output_type": "stream",
     "text": [
      "277/277 [==============================] - 0s 671us/step - loss: 0.1243 - accuracy: 0.4998\n",
      "Epoch 1/8\n",
      "   1/6759 [..............................] - ETA: 0s - loss: 0.1499 - accuracy: 0.2000WARNING:tensorflow:From C:\\ProgramData\\Anaconda3\\lib\\site-packages\\tensorflow\\python\\ops\\summary_ops_v2.py:1277: stop (from tensorflow.python.eager.profiler) is deprecated and will be removed after 2020-07-01.\n",
      "Instructions for updating:\n",
      "use `tf.profiler.experimental.stop` instead.\n",
      "   2/6759 [..............................] - ETA: 42:58 - loss: 0.1472 - accuracy: 0.3000WARNING:tensorflow:Callbacks method `on_train_batch_end` is slow compared to the batch time (batch time: 0.1119s vs `on_train_batch_end` time: 0.6492s). Check your callbacks.\n",
      "6759/6759 [==============================] - 8s 1ms/step - loss: 0.0850 - accuracy: 0.7233 - val_loss: 0.0868 - val_accuracy: 0.6997\n",
      "Epoch 2/8\n",
      "6759/6759 [==============================] - 6s 943us/step - loss: 0.0803 - accuracy: 0.7387 - val_loss: 0.0876 - val_accuracy: 0.6960\n",
      "Epoch 3/8\n",
      "6759/6759 [==============================] - 6s 924us/step - loss: 0.0791 - accuracy: 0.7435 - val_loss: 0.0853 - val_accuracy: 0.7127\n",
      "Epoch 4/8\n",
      "6759/6759 [==============================] - 6s 924us/step - loss: 0.0779 - accuracy: 0.7477 - val_loss: 0.0878 - val_accuracy: 0.6905\n",
      "Epoch 5/8\n",
      "6759/6759 [==============================] - 6s 923us/step - loss: 0.0771 - accuracy: 0.7482 - val_loss: 0.0871 - val_accuracy: 0.6955\n",
      "Epoch 6/8\n",
      "6759/6759 [==============================] - 6s 939us/step - loss: 0.0759 - accuracy: 0.7539 - val_loss: 0.0865 - val_accuracy: 0.7025\n",
      "Epoch 7/8\n",
      "6759/6759 [==============================] - 8s 1ms/step - loss: 0.0751 - accuracy: 0.7563 - val_loss: 0.0862 - val_accuracy: 0.7202\n",
      "Epoch 8/8\n",
      "6759/6759 [==============================] - 9s 1ms/step - loss: 0.0747 - accuracy: 0.7559 - val_loss: 0.0881 - val_accuracy: 0.7002\n"
     ]
    },
    {
     "data": {
      "text/plain": [
       "<tensorflow.python.keras.callbacks.History object at 0x0000020137302580>"
      ]
     },
     "execution_count": 106,
     "metadata": {},
     "output_type": "execute_result"
    }
   ],
   "source": [
    "log_dir = \"logs/fit/CatCross_10_2_5_sig\" + datetime.datetime.now().strftime(\"%Y%m%d-%H%M%S\")\n",
    "tensorboard_callback = tf.keras.callbacks.TensorBoard(log_dir=log_dir, histogram_freq=1)\n",
    "\n",
    "\n",
    "model.evaluate(X_test, Y_test)\n",
    "model.fit(X_train, Y_train, epochs=8, batch_size=5,callbacks=[tensorboard_callback], validation_data = (X_test, Y_test))"
   ]
  },
  {
   "cell_type": "markdown",
   "metadata": {},
   "source": [
    "## And alternative approach: tagging the docs with their relations to the US Presidential candidates then finding the tag that shows "
   ]
  },
  {
   "cell_type": "code",
   "execution_count": 364,
   "metadata": {},
   "outputs": [],
   "source": [
    "train=pd.read_csv('Cleaned_train_TB_WSTW.csv',index_col='no')"
   ]
  },
  {
   "cell_type": "code",
   "execution_count": 369,
   "metadata": {},
   "outputs": [
    {
     "data": {
      "text/plain": [
       "1"
      ]
     },
     "execution_count": 369,
     "metadata": {},
     "output_type": "execute_result"
    }
   ],
   "source": [
    "train.iloc[0,1]"
   ]
  },
  {
   "cell_type": "code",
   "execution_count": 372,
   "metadata": {},
   "outputs": [],
   "source": [
    "train_comments_tagged=[]\n",
    "\n",
    "for i in range(len(train)):\n",
    "    twitt=word_tokenize(train.iloc[i,0])\n",
    "    train_comments_tagged.append((twitt,train.iloc[i,1]))"
   ]
  },
  {
   "cell_type": "code",
   "execution_count": 373,
   "metadata": {},
   "outputs": [
    {
     "data": {
      "text/plain": [
       "(['as', 'soon', 'hillary', 'running', 'vs', 'bernie', 'changed', 'mind'], 1)"
      ]
     },
     "execution_count": 373,
     "metadata": {},
     "output_type": "execute_result"
    }
   ],
   "source": [
    "train_comments_tagged[0]"
   ]
  },
  {
   "cell_type": "code",
   "execution_count": 384,
   "metadata": {},
   "outputs": [],
   "source": [
    "#train docVector\n",
    "from gensim.models.doc2vec import Doc2Vec, TaggedDocument\n",
    "from nltk.tokenize import word_tokenize\n",
    "\n",
    "# PREPARE THE SET OF DOCUMENTS FOR THE MODEL\n",
    "documents = [TaggedDocument(doc, [i]) for doc,i in train_comments_tagged]\n"
   ]
  },
  {
   "cell_type": "code",
   "execution_count": 385,
   "metadata": {},
   "outputs": [
    {
     "data": {
      "text/plain": [
       "TaggedDocument(words=['help', 'us'], tags=[0])"
      ]
     },
     "execution_count": 385,
     "metadata": {},
     "output_type": "execute_result"
    }
   ],
   "source": [
    "documents[7]"
   ]
  },
  {
   "cell_type": "code",
   "execution_count": 386,
   "metadata": {},
   "outputs": [
    {
     "data": {
      "application/vnd.jupyter.widget-view+json": {
       "model_id": "9826279f51b24804b53f76e884bbe3d4",
       "version_major": 2,
       "version_minor": 0
      },
      "text/plain": [
       "HBox(children=(FloatProgress(value=0.0, max=10.0), HTML(value='')))"
      ]
     },
     "metadata": {},
     "output_type": "display_data"
    },
    {
     "name": "stdout",
     "output_type": "stream",
     "text": [
      "\n"
     ]
    }
   ],
   "source": [
    "doc_train_tagged = gensim.models.Doc2Vec(vector_size=200, window=3,  compute_loss = True,\n",
    "                               min_count=10, alpha = 0.01)\n",
    "doc_train_tagged.build_vocab(documents)\n",
    "\n",
    "# AND TRAIN THE MODEL\n",
    "iterations = tqdm(range(10))\n",
    "for i in iterations:\n",
    "    doc_train_tagged.train(documents, total_examples=doc_train_tagged.corpus_count,\n",
    "                epochs = 100)\n",
    "    msg = f\"Iter :: {i}\"\n",
    "    iterations.set_postfix_str(s = msg, refresh=True)"
   ]
  },
  {
   "cell_type": "raw",
   "metadata": {},
   "source": [
    "# Trining another doc2vector. It gives us worst model\n",
    "doc_train_tagged = gensim.models.Doc2Vec(vector_size=300, window=5,  compute_loss = True,\n",
    "                               min_count=5, alpha = 0.01)\n",
    "doc_train_tagged.build_vocab(documents)\n",
    "\n",
    "# AND TRAIN THE MODEL\n",
    "iterations = tqdm(range(10))\n",
    "for i in iterations:\n",
    "    doc_train_tagged.train(documents, total_examples=doc_train_tagged.corpus_count,\n",
    "                epochs = 100)\n",
    "    msg = f\"Iter :: {i}\"\n",
    "    iterations.set_postfix_str(s = msg, refresh=True)"
   ]
  },
  {
   "cell_type": "code",
   "execution_count": 419,
   "metadata": {},
   "outputs": [],
   "source": [
    "#Savin the model for training\n",
    "doc_train_tagged.save('train_DocVec_tagged')"
   ]
  },
  {
   "cell_type": "code",
   "execution_count": 51,
   "metadata": {},
   "outputs": [],
   "source": [
    "doc_train_tagged=Doc2Vec.load('train_DocVec_tagged')"
   ]
  },
  {
   "cell_type": "code",
   "execution_count": 52,
   "metadata": {},
   "outputs": [],
   "source": [
    "tokens = \"if remember correctly nixon roughly votes add\".split()\n",
    "\n",
    "new_vector = doc_train_tagged.infer_vector(tokens)\n",
    "sims = doc_train_tagged.docvecs.most_similar([new_vector])"
   ]
  },
  {
   "cell_type": "code",
   "execution_count": 53,
   "metadata": {},
   "outputs": [
    {
     "data": {
      "text/plain": [
       "[(0, 0.6070778369903564), (1, 0.5845246315002441)]"
      ]
     },
     "execution_count": 53,
     "metadata": {},
     "output_type": "execute_result"
    }
   ],
   "source": [
    "sims"
   ]
  },
  {
   "cell_type": "markdown",
   "metadata": {},
   "source": [
    "## We use this- Simple Strategy: Just the most Similar"
   ]
  },
  {
   "cell_type": "code",
   "execution_count": 54,
   "metadata": {},
   "outputs": [],
   "source": [
    "def predict_Similar(g_model,twitt):\n",
    "    tokens = twitt.split()\n",
    "\n",
    "    new_vector = g_model.infer_vector(tokens)\n",
    "    sims = g_model.docvecs.most_similar([new_vector])\n",
    "    return sims[0][0]\n",
    "    "
   ]
  },
  {
   "cell_type": "code",
   "execution_count": 55,
   "metadata": {},
   "outputs": [],
   "source": [
    "test=pd.read_csv('Cleaned_test_TB_WSTW.csv',index_col='no')"
   ]
  },
  {
   "cell_type": "code",
   "execution_count": 56,
   "metadata": {},
   "outputs": [
    {
     "name": "stdout",
     "output_type": "stream",
     "text": [
      "Accuracy: 0.6979918772563177\n"
     ]
    }
   ],
   "source": [
    "\n",
    "success=0\n",
    "biden=[]\n",
    "trump=[]\n",
    "matrix={1:{1:0,0:0},0:{1:0,0:0}}\n",
    "for i in range(len(test)):\n",
    "    twitt=test.iloc[i,0]\n",
    "    predicted=predict_Similar(doc_train_tagged,twitt)\n",
    "    matrix[test.iloc[i,1]][predicted]+=1\n",
    "    if predicted==test.iloc[i,1]:\n",
    "        success+=1\n",
    "print('Accuracy: ' + str(success/len(test)))"
   ]
  },
  {
   "cell_type": "code",
   "execution_count": 57,
   "metadata": {},
   "outputs": [
    {
     "data": {
      "text/plain": [
       "{1: {1: 2733, 0: 1699}, 0: {1: 978, 0: 3454}}"
      ]
     },
     "execution_count": 57,
     "metadata": {},
     "output_type": "execute_result"
    }
   ],
   "source": [
    "matrix"
   ]
  },
  {
   "cell_type": "markdown",
   "metadata": {},
   "source": [
    "## weighted Strategy: polling "
   ]
  },
  {
   "cell_type": "code",
   "execution_count": 436,
   "metadata": {},
   "outputs": [],
   "source": [
    "doc_model=Doc2Vec.load('train_DocVec')\n",
    "train=pd.read_csv('Cleaned_train_TB_WSTW.csv',index_col='no')"
   ]
  },
  {
   "cell_type": "code",
   "execution_count": 437,
   "metadata": {},
   "outputs": [
    {
     "data": {
      "text/html": [
       "<div>\n",
       "<style scoped>\n",
       "    .dataframe tbody tr th:only-of-type {\n",
       "        vertical-align: middle;\n",
       "    }\n",
       "\n",
       "    .dataframe tbody tr th {\n",
       "        vertical-align: top;\n",
       "    }\n",
       "\n",
       "    .dataframe thead th {\n",
       "        text-align: right;\n",
       "    }\n",
       "</style>\n",
       "<table border=\"1\" class=\"dataframe\">\n",
       "  <thead>\n",
       "    <tr style=\"text-align: right;\">\n",
       "      <th></th>\n",
       "      <th>twitt</th>\n",
       "      <th>relatedTo</th>\n",
       "    </tr>\n",
       "    <tr>\n",
       "      <th>no</th>\n",
       "      <th></th>\n",
       "      <th></th>\n",
       "    </tr>\n",
       "  </thead>\n",
       "  <tbody>\n",
       "    <tr>\n",
       "      <th>11882</th>\n",
       "      <td>as soon hillary running vs bernie changed mind</td>\n",
       "      <td>1</td>\n",
       "    </tr>\n",
       "    <tr>\n",
       "      <th>2061</th>\n",
       "      <td>personally thats see although believe see what...</td>\n",
       "      <td>1</td>\n",
       "    </tr>\n",
       "    <tr>\n",
       "      <th>10790</th>\n",
       "      <td>hasnt super tuesday already shown us youth vot...</td>\n",
       "      <td>1</td>\n",
       "    </tr>\n",
       "    <tr>\n",
       "      <th>18504</th>\n",
       "      <td>the magic gungrabbing biggulprestricting nanny...</td>\n",
       "      <td>0</td>\n",
       "    </tr>\n",
       "    <tr>\n",
       "      <th>25750</th>\n",
       "      <td>if remember correctly nixon roughly votes add ...</td>\n",
       "      <td>0</td>\n",
       "    </tr>\n",
       "  </tbody>\n",
       "</table>\n",
       "</div>"
      ],
      "text/plain": [
       "                                                   twitt  relatedTo\n",
       "no                                                                 \n",
       "11882     as soon hillary running vs bernie changed mind          1\n",
       "2061   personally thats see although believe see what...          1\n",
       "10790  hasnt super tuesday already shown us youth vot...          1\n",
       "18504  the magic gungrabbing biggulprestricting nanny...          0\n",
       "25750  if remember correctly nixon roughly votes add ...          0"
      ]
     },
     "execution_count": 437,
     "metadata": {},
     "output_type": "execute_result"
    }
   ],
   "source": [
    "train.head()"
   ]
  },
  {
   "cell_type": "code",
   "execution_count": 496,
   "metadata": {},
   "outputs": [],
   "source": [
    "def predict_Similar_weighted(g_model,twitt,selection):\n",
    "    tokens = twitt.split()\n",
    "\n",
    "    new_vector = g_model.infer_vector(tokens)\n",
    "    sims = g_model.docvecs.most_similar([new_vector])\n",
    "    total=0\n",
    "    total=np.sum([b for (a,b) in sims[:selection]])\n",
    "    weight=0\n",
    "    for i in sims[:selection]:\n",
    "        weight+=(i[1]/total) * train.iloc[i[0],1]\n",
    "    return int(np.round(weight))\n",
    "    "
   ]
  },
  {
   "cell_type": "code",
   "execution_count": 497,
   "metadata": {},
   "outputs": [
    {
     "name": "stdout",
     "output_type": "stream",
     "text": [
      "Accuracy for weighted method: 0.6432761732851986\n"
     ]
    }
   ],
   "source": [
    "success=0\n",
    "\n",
    "for i in range(len(test)):\n",
    "    twitt=test.iloc[i,0]\n",
    "    predicted=predict_Similar_weighted(doc_model,twitt,5)\n",
    "    if predicted==test.iloc[i,1]:\n",
    "        success+=1\n",
    "print('Accuracy for weighted method: ' + str(success/len(test)))"
   ]
  },
  {
   "cell_type": "code",
   "execution_count": null,
   "metadata": {},
   "outputs": [],
   "source": []
  }
 ],
 "metadata": {
  "kernelspec": {
   "display_name": "Python 3",
   "language": "python",
   "name": "python3"
  },
  "language_info": {
   "codemirror_mode": {
    "name": "ipython",
    "version": 3
   },
   "file_extension": ".py",
   "mimetype": "text/x-python",
   "name": "python",
   "nbconvert_exporter": "python",
   "pygments_lexer": "ipython3",
   "version": "3.8.3"
  }
 },
 "nbformat": 4,
 "nbformat_minor": 4
}
